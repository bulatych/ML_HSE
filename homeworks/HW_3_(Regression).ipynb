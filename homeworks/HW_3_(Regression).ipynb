{
  "cells": [
    {
      "cell_type": "markdown",
      "id": "364def0d",
      "metadata": {
        "id": "364def0d"
      },
      "source": [
        "---"
      ]
    },
    {
      "cell_type": "markdown",
      "id": "b6f7ed69",
      "metadata": {
        "id": "b6f7ed69"
      },
      "source": [
        "# Introduction\n",
        "\n",
        "In this homework you will:\n",
        "\n",
        "* Recall your skills of data analysis and preprocessing.\n",
        "* Explore the behaviour of different machine learning models.\n",
        "* Try to solve a regression type problem and interpret the results.\n",
        "\n",
        "But first of all, a few notes:\n",
        "\n",
        "* Check the 3rd and 4th seminars for a quick reminder on general rules.\n",
        "* We do not expect you to make a model that makes necessarly good predictions, rather than explain why do you get the results which you get.\n",
        "* We reserve the right to lower the grade for messy code, so keep it clean and make comments about what you do! It is also your responsibility to test your own code.\n",
        "* Remember to submit the feedback! Especially if the homework was too difficult or easy for you.\n",
        "\n",
        "This time, you will do the coding part yourself. That means, you take decisions about EDA, data cleaning, hyperparameters choice, etc. on your own (for the most part, at least)."
      ]
    },
    {
      "cell_type": "markdown",
      "id": "9898dba9",
      "metadata": {
        "id": "9898dba9"
      },
      "source": [
        "Another important mention: your work must be reproducible.\n",
        "It means that it would be possible to run your code and obtain the same results by pressing \"Run All\" button in settings of this notebook. To do so, don't forget to fix the random seed number where possible!"
      ]
    },
    {
      "cell_type": "markdown",
      "id": "9b15a7f7",
      "metadata": {
        "id": "9b15a7f7"
      },
      "source": [
        "# Dataset\n",
        "\n",
        "Today your task will be to understand the relationship between the cholesterol level and its associated factors, such as gender, age, BMI, medical condition and some genomic features. This can be explored by a regression analysis using machine learning methods that we learned in the class.\n",
        "\n",
        "Description of the variables:\n",
        "\n",
        "* DM: diabetes mellitus: 0 = no diabetes, 1 = diabetes\n",
        "* age: Age in years\n",
        "* chol: Serum total cholesterol, mg/dl\n",
        "* BMI: Body-mass index, kg/m2\n",
        "* TG: Serum triglycerides, mg/dl\n",
        "* APOE: Apolipoprotein E genotype, with six genotypes coded 1-6: 1 = e2/e2, 2 = e2/e3, 3 = e2/e4, 4 = e3/e3, 5 = e3/e4, 6 = e4/e4\n",
        "* rs174548: Candidate SNP 1 genotype, chromosome 11, physical position 61,803,876\n",
        ". Coded as the number of minor alleles: 0 = C/C, 1 = C/G, 2 = G/G.\n",
        "* rs4775041: Candidate SNP 2 genotype, chromosome 15, physical position 58,382,496. Coded as the number of minor alleles: 0 = C/C, 1 = C/G, 2 = G/G.\n",
        "* HTN: diagnosed hypertension: 0 = no, 1 = yes\n",
        "* chd: diagnosis of coronary heart disease: 0 = no, 1 = yes\n",
        "\n",
        "Target variable: Serum total cholesterol\n",
        "\n",
        "<font color=#c30>**Disclaimer:**</font> it is expected that you WON'T get good metrics with this dataset. We encourage experimentation with data and models to improve the result, but a low final metric will not affect your grade."
      ]
    },
    {
      "cell_type": "markdown",
      "id": "10f6900d",
      "metadata": {
        "id": "10f6900d"
      },
      "source": [
        "# Tasks <font color=#c30>**[8]**</font>"
      ]
    },
    {
      "cell_type": "markdown",
      "id": "0dcf0ef8",
      "metadata": {
        "id": "0dcf0ef8"
      },
      "source": [
        "### Exploratory Data Analysis <font color=#c30>**[2.5]**</font>"
      ]
    },
    {
      "cell_type": "markdown",
      "id": "1c4aa2e7",
      "metadata": {
        "id": "1c4aa2e7"
      },
      "source": [
        "<font color=#c30>**[0.1]**</font> Before the analysis itself, don't forget to check the features you are working with. Some of them are not very obvious. Google some information on what those features represent, and write it down here:\n",
        "\n",
        "* TG - These are fats present in the blood that the body uses for energy. High triglyceride levels can increase the risk of heart disease.\n",
        "* APOE - a protein involved in lipid metabolism. The APOE genotype affects blood cholesterol levels and risk of developing Alzheimer's disease and heart diseases.\n",
        "* rs174548 - one of several SNPs that lie in a linkage disequilibrium block containing the FADS1 gene was strongly associated  with a number of glycerophospholipid concentrations.\n",
        "* rs4775041 - it is a SNP on chromosome 15, also potentially related to lipid metabolism\n",
        "\n",
        "You can (and should!) use this information when interpreting results."
      ]
    },
    {
      "cell_type": "markdown",
      "id": "a47a4cd7",
      "metadata": {
        "id": "a47a4cd7"
      },
      "source": [
        "Download the data:"
      ]
    },
    {
      "cell_type": "code",
      "execution_count": 2,
      "id": "10695601",
      "metadata": {
        "id": "10695601",
        "colab": {
          "base_uri": "https://localhost:8080/"
        },
        "outputId": "f76b7038-502a-4d39-993f-7443df7a7749"
      },
      "outputs": [
        {
          "output_type": "stream",
          "name": "stdout",
          "text": [
            "Downloading...\n",
            "From: https://drive.google.com/uc?id=1PrtyKo4e_q7jm7lR27CL7VbWVC8vZoWP\n",
            "To: /content/Data-Cholesterol-V2.csv\n",
            "\r  0% 0.00/11.4k [00:00<?, ?B/s]\r100% 11.4k/11.4k [00:00<00:00, 27.2MB/s]\n",
            "Data-Cholesterol-V2.csv  sample_data\n"
          ]
        }
      ],
      "source": [
        "!gdown 1PrtyKo4e_q7jm7lR27CL7VbWVC8vZoWP\n",
        "!ls"
      ]
    },
    {
      "cell_type": "code",
      "execution_count": 11,
      "id": "62d0bcd5",
      "metadata": {
        "id": "62d0bcd5",
        "colab": {
          "base_uri": "https://localhost:8080/",
          "height": 115
        },
        "outputId": "e85c55ef-a6ae-492f-f0f5-e415a1206d3c"
      },
      "outputs": [
        {
          "output_type": "execute_result",
          "data": {
            "text/plain": [
              "BMI    37\n",
              "dtype: int64"
            ],
            "text/html": [
              "<div>\n",
              "<style scoped>\n",
              "    .dataframe tbody tr th:only-of-type {\n",
              "        vertical-align: middle;\n",
              "    }\n",
              "\n",
              "    .dataframe tbody tr th {\n",
              "        vertical-align: top;\n",
              "    }\n",
              "\n",
              "    .dataframe thead th {\n",
              "        text-align: right;\n",
              "    }\n",
              "</style>\n",
              "<table border=\"1\" class=\"dataframe\">\n",
              "  <thead>\n",
              "    <tr style=\"text-align: right;\">\n",
              "      <th></th>\n",
              "      <th>0</th>\n",
              "    </tr>\n",
              "  </thead>\n",
              "  <tbody>\n",
              "    <tr>\n",
              "      <th>BMI</th>\n",
              "      <td>37</td>\n",
              "    </tr>\n",
              "  </tbody>\n",
              "</table>\n",
              "</div><br><label><b>dtype:</b> int64</label>"
            ]
          },
          "metadata": {},
          "execution_count": 11
        }
      ],
      "source": [
        "import pandas as pd\n",
        "df = pd.read_csv('Data-Cholesterol-V2.csv')\n",
        "df.head(n=10)\n",
        "# Let's calculate total number of nulls for each column\n",
        "\n",
        "isnull = df.isnull()\n",
        "isnull = isnull.sum()\n",
        "isnull\n",
        "# Print columns with 1 or more null value\n",
        "isnull[isnull > 0]"
      ]
    },
    {
      "cell_type": "markdown",
      "source": [
        "There are 37 observations for BMI with NaN values. Let's assume that sample size is large enough to train the model, so we will remove the lines from NaN"
      ],
      "metadata": {
        "id": "DP4S6vqmN-nO"
      },
      "id": "DP4S6vqmN-nO"
    },
    {
      "cell_type": "code",
      "source": [
        "df_clean = df.dropna(subset=['BMI'])\n",
        "df_clean"
      ],
      "metadata": {
        "id": "AuM7rmyoRMa9",
        "outputId": "52293393-0a42-4fec-b096-c7959c974499",
        "colab": {
          "base_uri": "https://localhost:8080/",
          "height": 423
        }
      },
      "id": "AuM7rmyoRMa9",
      "execution_count": 13,
      "outputs": [
        {
          "output_type": "execute_result",
          "data": {
            "text/plain": [
              "     DM  age  chol   BMI   TG  APOE  rs174548  rs4775041  HTN  chd\n",
              "0     1   74   215  26.2  367     4         1          2    1    1\n",
              "1     1   51   204  24.7  150     4         2          1    1    1\n",
              "2     0   64   205  24.2  213     4         0          1    1    0\n",
              "3     0   34   182  23.8  111     2         1          1    1    0\n",
              "4     1   52   175  34.1  328     2         0          0    1    0\n",
              "..   ..  ...   ...   ...  ...   ...       ...        ...  ...  ...\n",
              "394   1   79   161  27.2  257     4         1          0    1    0\n",
              "395   0   71   169  25.8  322     4         0          0    1    0\n",
              "397   1   33   180  20.6   56     4         0          1    1    0\n",
              "398   1   78   212  24.0  273     4         1          0    1    0\n",
              "399   0   43   220  21.4   91     5         0          1    1    1\n",
              "\n",
              "[363 rows x 10 columns]"
            ],
            "text/html": [
              "\n",
              "  <div id=\"df-d32978b3-409a-4609-b6e4-c3dce2fd505b\" class=\"colab-df-container\">\n",
              "    <div>\n",
              "<style scoped>\n",
              "    .dataframe tbody tr th:only-of-type {\n",
              "        vertical-align: middle;\n",
              "    }\n",
              "\n",
              "    .dataframe tbody tr th {\n",
              "        vertical-align: top;\n",
              "    }\n",
              "\n",
              "    .dataframe thead th {\n",
              "        text-align: right;\n",
              "    }\n",
              "</style>\n",
              "<table border=\"1\" class=\"dataframe\">\n",
              "  <thead>\n",
              "    <tr style=\"text-align: right;\">\n",
              "      <th></th>\n",
              "      <th>DM</th>\n",
              "      <th>age</th>\n",
              "      <th>chol</th>\n",
              "      <th>BMI</th>\n",
              "      <th>TG</th>\n",
              "      <th>APOE</th>\n",
              "      <th>rs174548</th>\n",
              "      <th>rs4775041</th>\n",
              "      <th>HTN</th>\n",
              "      <th>chd</th>\n",
              "    </tr>\n",
              "  </thead>\n",
              "  <tbody>\n",
              "    <tr>\n",
              "      <th>0</th>\n",
              "      <td>1</td>\n",
              "      <td>74</td>\n",
              "      <td>215</td>\n",
              "      <td>26.2</td>\n",
              "      <td>367</td>\n",
              "      <td>4</td>\n",
              "      <td>1</td>\n",
              "      <td>2</td>\n",
              "      <td>1</td>\n",
              "      <td>1</td>\n",
              "    </tr>\n",
              "    <tr>\n",
              "      <th>1</th>\n",
              "      <td>1</td>\n",
              "      <td>51</td>\n",
              "      <td>204</td>\n",
              "      <td>24.7</td>\n",
              "      <td>150</td>\n",
              "      <td>4</td>\n",
              "      <td>2</td>\n",
              "      <td>1</td>\n",
              "      <td>1</td>\n",
              "      <td>1</td>\n",
              "    </tr>\n",
              "    <tr>\n",
              "      <th>2</th>\n",
              "      <td>0</td>\n",
              "      <td>64</td>\n",
              "      <td>205</td>\n",
              "      <td>24.2</td>\n",
              "      <td>213</td>\n",
              "      <td>4</td>\n",
              "      <td>0</td>\n",
              "      <td>1</td>\n",
              "      <td>1</td>\n",
              "      <td>0</td>\n",
              "    </tr>\n",
              "    <tr>\n",
              "      <th>3</th>\n",
              "      <td>0</td>\n",
              "      <td>34</td>\n",
              "      <td>182</td>\n",
              "      <td>23.8</td>\n",
              "      <td>111</td>\n",
              "      <td>2</td>\n",
              "      <td>1</td>\n",
              "      <td>1</td>\n",
              "      <td>1</td>\n",
              "      <td>0</td>\n",
              "    </tr>\n",
              "    <tr>\n",
              "      <th>4</th>\n",
              "      <td>1</td>\n",
              "      <td>52</td>\n",
              "      <td>175</td>\n",
              "      <td>34.1</td>\n",
              "      <td>328</td>\n",
              "      <td>2</td>\n",
              "      <td>0</td>\n",
              "      <td>0</td>\n",
              "      <td>1</td>\n",
              "      <td>0</td>\n",
              "    </tr>\n",
              "    <tr>\n",
              "      <th>...</th>\n",
              "      <td>...</td>\n",
              "      <td>...</td>\n",
              "      <td>...</td>\n",
              "      <td>...</td>\n",
              "      <td>...</td>\n",
              "      <td>...</td>\n",
              "      <td>...</td>\n",
              "      <td>...</td>\n",
              "      <td>...</td>\n",
              "      <td>...</td>\n",
              "    </tr>\n",
              "    <tr>\n",
              "      <th>394</th>\n",
              "      <td>1</td>\n",
              "      <td>79</td>\n",
              "      <td>161</td>\n",
              "      <td>27.2</td>\n",
              "      <td>257</td>\n",
              "      <td>4</td>\n",
              "      <td>1</td>\n",
              "      <td>0</td>\n",
              "      <td>1</td>\n",
              "      <td>0</td>\n",
              "    </tr>\n",
              "    <tr>\n",
              "      <th>395</th>\n",
              "      <td>0</td>\n",
              "      <td>71</td>\n",
              "      <td>169</td>\n",
              "      <td>25.8</td>\n",
              "      <td>322</td>\n",
              "      <td>4</td>\n",
              "      <td>0</td>\n",
              "      <td>0</td>\n",
              "      <td>1</td>\n",
              "      <td>0</td>\n",
              "    </tr>\n",
              "    <tr>\n",
              "      <th>397</th>\n",
              "      <td>1</td>\n",
              "      <td>33</td>\n",
              "      <td>180</td>\n",
              "      <td>20.6</td>\n",
              "      <td>56</td>\n",
              "      <td>4</td>\n",
              "      <td>0</td>\n",
              "      <td>1</td>\n",
              "      <td>1</td>\n",
              "      <td>0</td>\n",
              "    </tr>\n",
              "    <tr>\n",
              "      <th>398</th>\n",
              "      <td>1</td>\n",
              "      <td>78</td>\n",
              "      <td>212</td>\n",
              "      <td>24.0</td>\n",
              "      <td>273</td>\n",
              "      <td>4</td>\n",
              "      <td>1</td>\n",
              "      <td>0</td>\n",
              "      <td>1</td>\n",
              "      <td>0</td>\n",
              "    </tr>\n",
              "    <tr>\n",
              "      <th>399</th>\n",
              "      <td>0</td>\n",
              "      <td>43</td>\n",
              "      <td>220</td>\n",
              "      <td>21.4</td>\n",
              "      <td>91</td>\n",
              "      <td>5</td>\n",
              "      <td>0</td>\n",
              "      <td>1</td>\n",
              "      <td>1</td>\n",
              "      <td>1</td>\n",
              "    </tr>\n",
              "  </tbody>\n",
              "</table>\n",
              "<p>363 rows × 10 columns</p>\n",
              "</div>\n",
              "    <div class=\"colab-df-buttons\">\n",
              "\n",
              "  <div class=\"colab-df-container\">\n",
              "    <button class=\"colab-df-convert\" onclick=\"convertToInteractive('df-d32978b3-409a-4609-b6e4-c3dce2fd505b')\"\n",
              "            title=\"Convert this dataframe to an interactive table.\"\n",
              "            style=\"display:none;\">\n",
              "\n",
              "  <svg xmlns=\"http://www.w3.org/2000/svg\" height=\"24px\" viewBox=\"0 -960 960 960\">\n",
              "    <path d=\"M120-120v-720h720v720H120Zm60-500h600v-160H180v160Zm220 220h160v-160H400v160Zm0 220h160v-160H400v160ZM180-400h160v-160H180v160Zm440 0h160v-160H620v160ZM180-180h160v-160H180v160Zm440 0h160v-160H620v160Z\"/>\n",
              "  </svg>\n",
              "    </button>\n",
              "\n",
              "  <style>\n",
              "    .colab-df-container {\n",
              "      display:flex;\n",
              "      gap: 12px;\n",
              "    }\n",
              "\n",
              "    .colab-df-convert {\n",
              "      background-color: #E8F0FE;\n",
              "      border: none;\n",
              "      border-radius: 50%;\n",
              "      cursor: pointer;\n",
              "      display: none;\n",
              "      fill: #1967D2;\n",
              "      height: 32px;\n",
              "      padding: 0 0 0 0;\n",
              "      width: 32px;\n",
              "    }\n",
              "\n",
              "    .colab-df-convert:hover {\n",
              "      background-color: #E2EBFA;\n",
              "      box-shadow: 0px 1px 2px rgba(60, 64, 67, 0.3), 0px 1px 3px 1px rgba(60, 64, 67, 0.15);\n",
              "      fill: #174EA6;\n",
              "    }\n",
              "\n",
              "    .colab-df-buttons div {\n",
              "      margin-bottom: 4px;\n",
              "    }\n",
              "\n",
              "    [theme=dark] .colab-df-convert {\n",
              "      background-color: #3B4455;\n",
              "      fill: #D2E3FC;\n",
              "    }\n",
              "\n",
              "    [theme=dark] .colab-df-convert:hover {\n",
              "      background-color: #434B5C;\n",
              "      box-shadow: 0px 1px 3px 1px rgba(0, 0, 0, 0.15);\n",
              "      filter: drop-shadow(0px 1px 2px rgba(0, 0, 0, 0.3));\n",
              "      fill: #FFFFFF;\n",
              "    }\n",
              "  </style>\n",
              "\n",
              "    <script>\n",
              "      const buttonEl =\n",
              "        document.querySelector('#df-d32978b3-409a-4609-b6e4-c3dce2fd505b button.colab-df-convert');\n",
              "      buttonEl.style.display =\n",
              "        google.colab.kernel.accessAllowed ? 'block' : 'none';\n",
              "\n",
              "      async function convertToInteractive(key) {\n",
              "        const element = document.querySelector('#df-d32978b3-409a-4609-b6e4-c3dce2fd505b');\n",
              "        const dataTable =\n",
              "          await google.colab.kernel.invokeFunction('convertToInteractive',\n",
              "                                                    [key], {});\n",
              "        if (!dataTable) return;\n",
              "\n",
              "        const docLinkHtml = 'Like what you see? Visit the ' +\n",
              "          '<a target=\"_blank\" href=https://colab.research.google.com/notebooks/data_table.ipynb>data table notebook</a>'\n",
              "          + ' to learn more about interactive tables.';\n",
              "        element.innerHTML = '';\n",
              "        dataTable['output_type'] = 'display_data';\n",
              "        await google.colab.output.renderOutput(dataTable, element);\n",
              "        const docLink = document.createElement('div');\n",
              "        docLink.innerHTML = docLinkHtml;\n",
              "        element.appendChild(docLink);\n",
              "      }\n",
              "    </script>\n",
              "  </div>\n",
              "\n",
              "\n",
              "<div id=\"df-d65f7059-0338-42c2-8c6b-eb62236bf12b\">\n",
              "  <button class=\"colab-df-quickchart\" onclick=\"quickchart('df-d65f7059-0338-42c2-8c6b-eb62236bf12b')\"\n",
              "            title=\"Suggest charts\"\n",
              "            style=\"display:none;\">\n",
              "\n",
              "<svg xmlns=\"http://www.w3.org/2000/svg\" height=\"24px\"viewBox=\"0 0 24 24\"\n",
              "     width=\"24px\">\n",
              "    <g>\n",
              "        <path d=\"M19 3H5c-1.1 0-2 .9-2 2v14c0 1.1.9 2 2 2h14c1.1 0 2-.9 2-2V5c0-1.1-.9-2-2-2zM9 17H7v-7h2v7zm4 0h-2V7h2v10zm4 0h-2v-4h2v4z\"/>\n",
              "    </g>\n",
              "</svg>\n",
              "  </button>\n",
              "\n",
              "<style>\n",
              "  .colab-df-quickchart {\n",
              "      --bg-color: #E8F0FE;\n",
              "      --fill-color: #1967D2;\n",
              "      --hover-bg-color: #E2EBFA;\n",
              "      --hover-fill-color: #174EA6;\n",
              "      --disabled-fill-color: #AAA;\n",
              "      --disabled-bg-color: #DDD;\n",
              "  }\n",
              "\n",
              "  [theme=dark] .colab-df-quickchart {\n",
              "      --bg-color: #3B4455;\n",
              "      --fill-color: #D2E3FC;\n",
              "      --hover-bg-color: #434B5C;\n",
              "      --hover-fill-color: #FFFFFF;\n",
              "      --disabled-bg-color: #3B4455;\n",
              "      --disabled-fill-color: #666;\n",
              "  }\n",
              "\n",
              "  .colab-df-quickchart {\n",
              "    background-color: var(--bg-color);\n",
              "    border: none;\n",
              "    border-radius: 50%;\n",
              "    cursor: pointer;\n",
              "    display: none;\n",
              "    fill: var(--fill-color);\n",
              "    height: 32px;\n",
              "    padding: 0;\n",
              "    width: 32px;\n",
              "  }\n",
              "\n",
              "  .colab-df-quickchart:hover {\n",
              "    background-color: var(--hover-bg-color);\n",
              "    box-shadow: 0 1px 2px rgba(60, 64, 67, 0.3), 0 1px 3px 1px rgba(60, 64, 67, 0.15);\n",
              "    fill: var(--button-hover-fill-color);\n",
              "  }\n",
              "\n",
              "  .colab-df-quickchart-complete:disabled,\n",
              "  .colab-df-quickchart-complete:disabled:hover {\n",
              "    background-color: var(--disabled-bg-color);\n",
              "    fill: var(--disabled-fill-color);\n",
              "    box-shadow: none;\n",
              "  }\n",
              "\n",
              "  .colab-df-spinner {\n",
              "    border: 2px solid var(--fill-color);\n",
              "    border-color: transparent;\n",
              "    border-bottom-color: var(--fill-color);\n",
              "    animation:\n",
              "      spin 1s steps(1) infinite;\n",
              "  }\n",
              "\n",
              "  @keyframes spin {\n",
              "    0% {\n",
              "      border-color: transparent;\n",
              "      border-bottom-color: var(--fill-color);\n",
              "      border-left-color: var(--fill-color);\n",
              "    }\n",
              "    20% {\n",
              "      border-color: transparent;\n",
              "      border-left-color: var(--fill-color);\n",
              "      border-top-color: var(--fill-color);\n",
              "    }\n",
              "    30% {\n",
              "      border-color: transparent;\n",
              "      border-left-color: var(--fill-color);\n",
              "      border-top-color: var(--fill-color);\n",
              "      border-right-color: var(--fill-color);\n",
              "    }\n",
              "    40% {\n",
              "      border-color: transparent;\n",
              "      border-right-color: var(--fill-color);\n",
              "      border-top-color: var(--fill-color);\n",
              "    }\n",
              "    60% {\n",
              "      border-color: transparent;\n",
              "      border-right-color: var(--fill-color);\n",
              "    }\n",
              "    80% {\n",
              "      border-color: transparent;\n",
              "      border-right-color: var(--fill-color);\n",
              "      border-bottom-color: var(--fill-color);\n",
              "    }\n",
              "    90% {\n",
              "      border-color: transparent;\n",
              "      border-bottom-color: var(--fill-color);\n",
              "    }\n",
              "  }\n",
              "</style>\n",
              "\n",
              "  <script>\n",
              "    async function quickchart(key) {\n",
              "      const quickchartButtonEl =\n",
              "        document.querySelector('#' + key + ' button');\n",
              "      quickchartButtonEl.disabled = true;  // To prevent multiple clicks.\n",
              "      quickchartButtonEl.classList.add('colab-df-spinner');\n",
              "      try {\n",
              "        const charts = await google.colab.kernel.invokeFunction(\n",
              "            'suggestCharts', [key], {});\n",
              "      } catch (error) {\n",
              "        console.error('Error during call to suggestCharts:', error);\n",
              "      }\n",
              "      quickchartButtonEl.classList.remove('colab-df-spinner');\n",
              "      quickchartButtonEl.classList.add('colab-df-quickchart-complete');\n",
              "    }\n",
              "    (() => {\n",
              "      let quickchartButtonEl =\n",
              "        document.querySelector('#df-d65f7059-0338-42c2-8c6b-eb62236bf12b button');\n",
              "      quickchartButtonEl.style.display =\n",
              "        google.colab.kernel.accessAllowed ? 'block' : 'none';\n",
              "    })();\n",
              "  </script>\n",
              "</div>\n",
              "    </div>\n",
              "  </div>\n"
            ],
            "application/vnd.google.colaboratory.intrinsic+json": {
              "type": "dataframe",
              "variable_name": "df_clean",
              "summary": "{\n  \"name\": \"df_clean\",\n  \"rows\": 363,\n  \"fields\": [\n    {\n      \"column\": \"DM\",\n      \"properties\": {\n        \"dtype\": \"number\",\n        \"std\": 0,\n        \"min\": 0,\n        \"max\": 1,\n        \"num_unique_values\": 2,\n        \"samples\": [\n          0,\n          1\n        ],\n        \"semantic_type\": \"\",\n        \"description\": \"\"\n      }\n    },\n    {\n      \"column\": \"age\",\n      \"properties\": {\n        \"dtype\": \"number\",\n        \"std\": 14,\n        \"min\": 30,\n        \"max\": 80,\n        \"num_unique_values\": 51,\n        \"samples\": [\n          56,\n          60\n        ],\n        \"semantic_type\": \"\",\n        \"description\": \"\"\n      }\n    },\n    {\n      \"column\": \"chol\",\n      \"properties\": {\n        \"dtype\": \"number\",\n        \"std\": 22,\n        \"min\": 117,\n        \"max\": 244,\n        \"num_unique_values\": 96,\n        \"samples\": [\n          136,\n          164\n        ],\n        \"semantic_type\": \"\",\n        \"description\": \"\"\n      }\n    },\n    {\n      \"column\": \"BMI\",\n      \"properties\": {\n        \"dtype\": \"number\",\n        \"std\": 3.1201444325547563,\n        \"min\": 19.4,\n        \"max\": 38.8,\n        \"num_unique_values\": 116,\n        \"samples\": [\n          32.9,\n          34.1\n        ],\n        \"semantic_type\": \"\",\n        \"description\": \"\"\n      }\n    },\n    {\n      \"column\": \"TG\",\n      \"properties\": {\n        \"dtype\": \"number\",\n        \"std\": 87,\n        \"min\": 47,\n        \"max\": 671,\n        \"num_unique_values\": 197,\n        \"samples\": [\n          197,\n          191\n        ],\n        \"semantic_type\": \"\",\n        \"description\": \"\"\n      }\n    },\n    {\n      \"column\": \"APOE\",\n      \"properties\": {\n        \"dtype\": \"number\",\n        \"std\": 0,\n        \"min\": 2,\n        \"max\": 6,\n        \"num_unique_values\": 5,\n        \"samples\": [\n          2,\n          6\n        ],\n        \"semantic_type\": \"\",\n        \"description\": \"\"\n      }\n    },\n    {\n      \"column\": \"rs174548\",\n      \"properties\": {\n        \"dtype\": \"number\",\n        \"std\": 0,\n        \"min\": 0,\n        \"max\": 2,\n        \"num_unique_values\": 3,\n        \"samples\": [\n          1,\n          2\n        ],\n        \"semantic_type\": \"\",\n        \"description\": \"\"\n      }\n    },\n    {\n      \"column\": \"rs4775041\",\n      \"properties\": {\n        \"dtype\": \"number\",\n        \"std\": 0,\n        \"min\": 0,\n        \"max\": 2,\n        \"num_unique_values\": 3,\n        \"samples\": [\n          2,\n          1\n        ],\n        \"semantic_type\": \"\",\n        \"description\": \"\"\n      }\n    },\n    {\n      \"column\": \"HTN\",\n      \"properties\": {\n        \"dtype\": \"number\",\n        \"std\": 0,\n        \"min\": 0,\n        \"max\": 1,\n        \"num_unique_values\": 2,\n        \"samples\": [\n          0,\n          1\n        ],\n        \"semantic_type\": \"\",\n        \"description\": \"\"\n      }\n    },\n    {\n      \"column\": \"chd\",\n      \"properties\": {\n        \"dtype\": \"number\",\n        \"std\": 0,\n        \"min\": 0,\n        \"max\": 1,\n        \"num_unique_values\": 2,\n        \"samples\": [\n          0,\n          1\n        ],\n        \"semantic_type\": \"\",\n        \"description\": \"\"\n      }\n    }\n  ]\n}"
            }
          },
          "metadata": {},
          "execution_count": 13
        }
      ]
    },
    {
      "cell_type": "code",
      "source": [
        "df_clean.dtypes"
      ],
      "metadata": {
        "id": "BRiUDFG4RgqU",
        "outputId": "5c5a2c32-f72f-4b09-ac90-3a252015c547",
        "colab": {
          "base_uri": "https://localhost:8080/",
          "height": 397
        }
      },
      "id": "BRiUDFG4RgqU",
      "execution_count": 14,
      "outputs": [
        {
          "output_type": "execute_result",
          "data": {
            "text/plain": [
              "DM             int64\n",
              "age            int64\n",
              "chol           int64\n",
              "BMI          float64\n",
              "TG             int64\n",
              "APOE           int64\n",
              "rs174548       int64\n",
              "rs4775041      int64\n",
              "HTN            int64\n",
              "chd            int64\n",
              "dtype: object"
            ],
            "text/html": [
              "<div>\n",
              "<style scoped>\n",
              "    .dataframe tbody tr th:only-of-type {\n",
              "        vertical-align: middle;\n",
              "    }\n",
              "\n",
              "    .dataframe tbody tr th {\n",
              "        vertical-align: top;\n",
              "    }\n",
              "\n",
              "    .dataframe thead th {\n",
              "        text-align: right;\n",
              "    }\n",
              "</style>\n",
              "<table border=\"1\" class=\"dataframe\">\n",
              "  <thead>\n",
              "    <tr style=\"text-align: right;\">\n",
              "      <th></th>\n",
              "      <th>0</th>\n",
              "    </tr>\n",
              "  </thead>\n",
              "  <tbody>\n",
              "    <tr>\n",
              "      <th>DM</th>\n",
              "      <td>int64</td>\n",
              "    </tr>\n",
              "    <tr>\n",
              "      <th>age</th>\n",
              "      <td>int64</td>\n",
              "    </tr>\n",
              "    <tr>\n",
              "      <th>chol</th>\n",
              "      <td>int64</td>\n",
              "    </tr>\n",
              "    <tr>\n",
              "      <th>BMI</th>\n",
              "      <td>float64</td>\n",
              "    </tr>\n",
              "    <tr>\n",
              "      <th>TG</th>\n",
              "      <td>int64</td>\n",
              "    </tr>\n",
              "    <tr>\n",
              "      <th>APOE</th>\n",
              "      <td>int64</td>\n",
              "    </tr>\n",
              "    <tr>\n",
              "      <th>rs174548</th>\n",
              "      <td>int64</td>\n",
              "    </tr>\n",
              "    <tr>\n",
              "      <th>rs4775041</th>\n",
              "      <td>int64</td>\n",
              "    </tr>\n",
              "    <tr>\n",
              "      <th>HTN</th>\n",
              "      <td>int64</td>\n",
              "    </tr>\n",
              "    <tr>\n",
              "      <th>chd</th>\n",
              "      <td>int64</td>\n",
              "    </tr>\n",
              "  </tbody>\n",
              "</table>\n",
              "</div><br><label><b>dtype:</b> object</label>"
            ]
          },
          "metadata": {},
          "execution_count": 14
        }
      ]
    },
    {
      "cell_type": "markdown",
      "id": "1b3ba08f",
      "metadata": {
        "id": "1b3ba08f"
      },
      "source": [
        "<font color=#c30>**[0.5]**</font> Know your data, make relevant data analysis and explain:\n",
        " * What types of variables there are\n",
        " * Your strategy about NaN values, if any present\n",
        " * Your strategy about categorical columns, if any present"
      ]
    },
    {
      "cell_type": "code",
      "source": [],
      "metadata": {
        "id": "vCGGqOZNN8Lu"
      },
      "id": "vCGGqOZNN8Lu",
      "execution_count": null,
      "outputs": []
    },
    {
      "cell_type": "markdown",
      "id": "a5af08d4",
      "metadata": {
        "id": "a5af08d4"
      },
      "source": [
        "Assuming your data is now certainly clean, you can start looking at the features."
      ]
    },
    {
      "cell_type": "code",
      "source": [],
      "metadata": {
        "id": "Cy28tUVENZHq"
      },
      "id": "Cy28tUVENZHq",
      "execution_count": null,
      "outputs": []
    },
    {
      "cell_type": "markdown",
      "id": "ea0e3932",
      "metadata": {
        "id": "ea0e3932"
      },
      "source": [
        "<font color=#c30>**[1.75]**</font>\n",
        "* Apply strategies you described above.\n",
        "* Make relevant visualization of features(histograms, boxplots, etc.) and analyze it.\n",
        "* Explore the relationship of features and interpret it if possible.\n",
        "* Deal with outliers and other dataset artifacts, if needed.\n"
      ]
    },
    {
      "cell_type": "code",
      "execution_count": null,
      "id": "501bd407",
      "metadata": {
        "id": "501bd407"
      },
      "outputs": [],
      "source": [
        "# YOUR CODE HERE ᕦ(ò_óˇ)ᕤ"
      ]
    },
    {
      "cell_type": "markdown",
      "id": "47692327",
      "metadata": {
        "id": "47692327"
      },
      "source": [
        "<font color=#c30>**[0.15]**</font> Answer the following questions:\n",
        "\n",
        "* Why can't categorical attributes be encoded with natural numbers?\n",
        "* Would fields like 'id' cause the model (not necessarily linear) to overfit? Why?"
      ]
    },
    {
      "cell_type": "markdown",
      "id": "3d5150c5",
      "metadata": {
        "id": "3d5150c5"
      },
      "source": [
        "### Machine Learning <font color=#c30>**[5.5]**</font>"
      ]
    },
    {
      "cell_type": "markdown",
      "id": "4971f8d2",
      "metadata": {
        "id": "4971f8d2"
      },
      "source": [
        "<font color=#c30>**[0.25]**</font> Split the data into train/test subsets and choose your target performance measure. Explain your choice."
      ]
    },
    {
      "cell_type": "code",
      "execution_count": null,
      "id": "30c301e4",
      "metadata": {
        "id": "30c301e4"
      },
      "outputs": [],
      "source": [
        "# YOUR CODE HERE ᕦ(ò_óˇ)ᕤ"
      ]
    },
    {
      "cell_type": "markdown",
      "id": "5ce42417",
      "metadata": {
        "id": "5ce42417"
      },
      "source": [
        "<font color=#c30>**[0.15]**</font> Answer the following questions:\n",
        "\n",
        "* Why do we need to scale the feature matrix before training machine learning models?\n",
        "* Why do you think we don't produce scaling of One Hot encoded features?"
      ]
    },
    {
      "cell_type": "markdown",
      "id": "0757e627",
      "metadata": {
        "id": "0757e627"
      },
      "source": [
        "<font color=#c30>**[0.25]**</font> Apply transformation to data, if needed. Justfy your choice."
      ]
    },
    {
      "cell_type": "code",
      "execution_count": null,
      "id": "736af375",
      "metadata": {
        "id": "736af375"
      },
      "outputs": [],
      "source": [
        "# YOUR CODE HERE ᕦ(ò_óˇ)ᕤ"
      ]
    },
    {
      "cell_type": "markdown",
      "id": "b66bf138",
      "metadata": {
        "id": "b66bf138"
      },
      "source": [
        "<font color=#c30>**[0.25]**</font> Train a simple linear regression model, and rank it using test set. How well the model is doing?"
      ]
    },
    {
      "cell_type": "code",
      "execution_count": null,
      "id": "5a7c1ccb",
      "metadata": {
        "id": "5a7c1ccb"
      },
      "outputs": [],
      "source": [
        "# YOUR CODE HERE ᕦ(ò_óˇ)ᕤ"
      ]
    },
    {
      "cell_type": "markdown",
      "id": "76f6825d",
      "metadata": {
        "id": "76f6825d"
      },
      "source": [
        "<font color=#c30>**[0.1]**</font> Answer the following question:\n",
        "\n",
        "* From a simple linear regression model point of view, are the largest weights always the most important ones?"
      ]
    },
    {
      "cell_type": "markdown",
      "id": "4cbf1f77",
      "metadata": {
        "id": "4cbf1f77"
      },
      "source": [
        "<font color=#c30>**[0.25]**</font> Obtain weights of the linear regression equation for this model and interpret them."
      ]
    },
    {
      "cell_type": "code",
      "execution_count": null,
      "id": "d7584c53",
      "metadata": {
        "id": "d7584c53"
      },
      "outputs": [],
      "source": [
        "# YOUR CODE HERE ᕦ(ò_óˇ)ᕤ"
      ]
    },
    {
      "cell_type": "markdown",
      "id": "7bbfd832",
      "metadata": {
        "id": "7bbfd832"
      },
      "source": [
        "<font color=#c30>**[0.25]**</font>\n",
        "* What are residuals?\n",
        "* Make a residuals vs predictions plot below.\n",
        "* What do you observe?"
      ]
    },
    {
      "cell_type": "code",
      "execution_count": null,
      "id": "18ac570b",
      "metadata": {
        "id": "18ac570b"
      },
      "outputs": [],
      "source": [
        "# YOUR CODE HERE ᕦ(ò_óˇ)ᕤ"
      ]
    },
    {
      "cell_type": "markdown",
      "id": "824d455c",
      "metadata": {
        "id": "824d455c"
      },
      "source": [
        "<font color=#c30>**[0.25]**</font> Now train the Lasso regression model. On a logarithmic scale, search for the optimal value of the regularization coefficient alpha."
      ]
    },
    {
      "cell_type": "code",
      "execution_count": null,
      "id": "8771aa37",
      "metadata": {
        "id": "8771aa37"
      },
      "outputs": [],
      "source": [
        "# YOUR CODE HERE ᕦ(ò_óˇ)ᕤ"
      ]
    },
    {
      "cell_type": "markdown",
      "id": "f173d29f",
      "metadata": {
        "id": "f173d29f"
      },
      "source": [
        "<font color=#c30>**[0.25]**</font> For each sampled alpha for Lasso, count the number of zero weights in the model and plot its dependence on alpha. How much will we have to lose in prediction quality if we want to get rid of at least half of the features using Lasso?"
      ]
    },
    {
      "cell_type": "code",
      "execution_count": null,
      "id": "fe00c71d",
      "metadata": {
        "id": "fe00c71d"
      },
      "outputs": [],
      "source": [
        "# YOUR CODE HERE ᕦ(ò_óˇ)ᕤ"
      ]
    },
    {
      "cell_type": "markdown",
      "id": "42074e01",
      "metadata": {
        "id": "42074e01"
      },
      "source": [
        "<font color=#c30>**[0.5]**</font> Train and optimize hyperparameters for Elastic Net, Ridge and Lasso models. Justify the parameters grid for each model. What number of cross-validation folds did you use? Why?"
      ]
    },
    {
      "cell_type": "code",
      "execution_count": null,
      "id": "e1dfc82f",
      "metadata": {
        "id": "e1dfc82f"
      },
      "outputs": [],
      "source": [
        "# YOUR CODE HERE ᕦ(ò_óˇ)ᕤ"
      ]
    },
    {
      "cell_type": "markdown",
      "id": "c9478edc",
      "metadata": {
        "id": "c9478edc"
      },
      "source": [
        "<font color=#c30>**[1]**</font> Use test set to rank optimized models. Describe and interpret results."
      ]
    },
    {
      "cell_type": "code",
      "execution_count": null,
      "id": "96748f9e",
      "metadata": {
        "id": "96748f9e"
      },
      "outputs": [],
      "source": [
        "# YOUR CODE HERE ᕦ(ò_óˇ)ᕤ"
      ]
    },
    {
      "cell_type": "markdown",
      "id": "786695c7",
      "metadata": {
        "id": "786695c7"
      },
      "source": [
        "<font color=#c30>**[1]**</font> Perform a feature importance analysis for all models, interpret the results, and make appropriate comparisons."
      ]
    },
    {
      "cell_type": "code",
      "execution_count": null,
      "id": "26e1c909",
      "metadata": {
        "id": "26e1c909"
      },
      "outputs": [],
      "source": [
        "# YOUR CODE HERE ᕦ(ò_óˇ)ᕤ"
      ]
    },
    {
      "cell_type": "markdown",
      "id": "62741cdb",
      "metadata": {
        "id": "62741cdb"
      },
      "source": [
        "<font color=#c30>**[1]**</font> Answer the following questions:\n",
        "\n",
        "* Which model works the best with cholesterol data? Explain, what could be the reason for it.\n",
        "* Based on your analysis above, have you found expected/unexpected important features? Is the connection with cholesterol level seems logical?\n",
        "* Would you suggest to use that model to a doctor or use it in a real study?"
      ]
    },
    {
      "cell_type": "markdown",
      "id": "b9f632ab",
      "metadata": {
        "id": "b9f632ab"
      },
      "source": [
        "# Extra points <font color=#c30>**[2]**</font>"
      ]
    },
    {
      "cell_type": "markdown",
      "source": [
        "In this part, you are tasked with implementing and testing two gradient descent methods for linear regression: classical GD and it's stochastic version. First, we generate some synthetic data for you to test on. You can change the values of variables, but note that your code should work with any given values."
      ],
      "metadata": {
        "id": "o_GJMLDMOfkj"
      },
      "id": "o_GJMLDMOfkj"
    },
    {
      "cell_type": "code",
      "source": [
        "n_features = 5\n",
        "n_objects = 1500\n",
        "\n",
        "# Generate true weights\n",
        "w_true = np.random.normal(size=(n_features,))\n",
        "\n",
        "# Generate features and target variable based on true weights\n",
        "X = np.random.uniform(-5, 5, (n_objects, n_features))\n",
        "X *= (np.arange(n_features) * 2 + 1)[np.newaxis, :]\n",
        "Y = X.dot(w_true) + np.random.normal(0, 1, (n_objects))\n",
        "\n",
        "# Generate random initial weights\n",
        "w_0 = np.random.uniform(-2, 2, (n_features))"
      ],
      "metadata": {
        "id": "Zc9QsPkzrWVr"
      },
      "id": "Zc9QsPkzrWVr",
      "execution_count": null,
      "outputs": []
    },
    {
      "cell_type": "markdown",
      "id": "4cd4ff6b",
      "metadata": {
        "id": "4cd4ff6b"
      },
      "source": [
        "* Implement GD and SGD for linear regression from scrath. You can reuse code from seminar.\n",
        "* Implemented methods must work with any number of input features."
      ]
    },
    {
      "cell_type": "code",
      "source": [
        "def GD(X, y, w_0, max_iter=500, learning_rate=0.05):\n",
        "    \"\"\"\n",
        "    Implementation of Gradient Descent by scratch.\n",
        "\n",
        "    :parameters:\n",
        "    X : np.ndarray, shape (n_objects, n_features)\n",
        "        Input matrix of features.\n",
        "    y : np.ndarray, shape (n_features, )\n",
        "        Target variable vector.\n",
        "    w_0 : np.ndarray, shape (n_objects, )\n",
        "        Initial weights vector.\n",
        "    max_iter: int\n",
        "        Maximum number of GD iterations.\n",
        "    learning_rate: float\n",
        "        Learning rate coefficient of GD.\n",
        "\n",
        "    :returns: list, updated weights array and MSE scores history\n",
        "    \"\"\"\n",
        "\n",
        "    # YOUR CODE HERE ᕦ(ò_óˇ)ᕤ\n",
        "    return [w, mse_scores]\n",
        "\n",
        "def SGD(X, y, w_0, max_iter=500, batch_size=10, learning_rate=0.05):\n",
        "    \"\"\"\n",
        "    Implementation of Stochastic Gradient Descent by scratch.\n",
        "\n",
        "    :parameters:\n",
        "    X : np.ndarray, shape (n_objects, n_features)\n",
        "        Input matrix of features.\n",
        "    y : np.ndarray, shape (n_features, )\n",
        "        Target variable vector.\n",
        "    w_0 : np.ndarray, shape (n_objects, )\n",
        "        Initial weights vector.\n",
        "    max_iter: int\n",
        "        Maximum number of GD iterations.\n",
        "    batch_size: int\n",
        "        Batch size.\n",
        "    learning_rate: float\n",
        "        Learning rate coefficient of GD.\n",
        "\n",
        "    :returns: list with updated weights array and MSE scores history\n",
        "    \"\"\"\n",
        "\n",
        "    # YOUR CODE HERE ᕦ(ò_óˇ)ᕤ\n",
        "    return [w, mse_scores]"
      ],
      "metadata": {
        "id": "wBod61iVpZg-"
      },
      "id": "wBod61iVpZg-",
      "execution_count": null,
      "outputs": []
    },
    {
      "cell_type": "markdown",
      "source": [
        "* Make a plot that represent how MSE changes with each step. Find out what learning rate and batch size work best for this case. Compare how quickly each method converges."
      ],
      "metadata": {
        "id": "WXUghBLKNhUz"
      },
      "id": "WXUghBLKNhUz"
    },
    {
      "cell_type": "code",
      "execution_count": null,
      "id": "373b2bf5",
      "metadata": {
        "id": "373b2bf5"
      },
      "outputs": [],
      "source": [
        "# YOUR CODE HERE ᕦ(ò_óˇ)ᕤ"
      ]
    },
    {
      "cell_type": "markdown",
      "source": [
        "* Do the same for cholesterol dataset. Is SGD applicable for this dataset or not?"
      ],
      "metadata": {
        "id": "x7EEZarZPD_Y"
      },
      "id": "x7EEZarZPD_Y"
    },
    {
      "cell_type": "code",
      "source": [
        "# YOUR CODE HERE ᕦ(ò_óˇ)ᕤ"
      ],
      "metadata": {
        "id": "yN1XL_zBP_Qv"
      },
      "id": "yN1XL_zBP_Qv",
      "execution_count": null,
      "outputs": []
    }
  ],
  "metadata": {
    "kernelspec": {
      "display_name": "Python 3",
      "language": "python",
      "name": "python3"
    },
    "language_info": {
      "codemirror_mode": {
        "name": "ipython",
        "version": 3
      },
      "file_extension": ".py",
      "mimetype": "text/x-python",
      "name": "python",
      "nbconvert_exporter": "python",
      "pygments_lexer": "ipython3",
      "version": "3.7.7"
    },
    "colab": {
      "provenance": []
    }
  },
  "nbformat": 4,
  "nbformat_minor": 5
}