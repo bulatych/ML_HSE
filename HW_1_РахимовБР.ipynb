{
  "cells": [
    {
      "cell_type": "markdown",
      "metadata": {
        "id": "BHYN5ze2q49z"
      },
      "source": [
        "# Семинар 1. Инструменты: Python, Numpy\n",
        "\n",
        "Данный семинар будет посвящен основным инструментам анализа данных.\n",
        "\n",
        "План ноутбука:\n",
        "* Очень кратко вспомнить азы Python и порешать легкие задачи\n",
        "* Порешать задачи в контексте библиотеки Numpy\n",
        "* Если успеем, начать крутить данные при помощи Pandas\n",
        "\n",
        "В то время как многие из Вас почувствуют некоторую скуку при виде темы данного семинара, остальные могут почувствовать ужас и страх перед неизвестным. В случае, если после семинара у Вас осталось ощущение, что Вы не готовы, отбросьте сомнения и немного потренируйтесь на предоставленных дополнительных материалах и/или любых открытых платформах в интернете (тысячи их), навык написания кода на питоне нарабатывается крайне быстро.\n",
        "\n",
        "### Основные инструменты, с которыми вы столкнетесь в рамках данного курса\n",
        "\n",
        "* [Colab](https://colab.research.google.com/#scrollTo=-Rh3-Vt9Nev9)  -  на основной странице есть несколько полезных подсказок\n",
        "* [Google](https://www.google.com/) & [StackOverflow](https://stackoverflow.com/) - тут вы знаете, что делать :) Просьба не слепо копировать ответы, а **перепечатывать** код и **понимать**, что в нём происходит.\n",
        "* [NumPy](https://numpy.org/doc/stable/user/) - посмотрите *quickstart* & *basics*, *array creation* и *indexing* тоже важны.\n",
        "* [Pandas](https://pandas.pydata.org/docs/user_guide/) - полное описание фичей пандаса. Просто ищите нужный функционал и вычитывайте, как оно работает, если у вас не получаеся что-то сделать.\n",
        "* [Matplotlib](https://matplotlib.org/stable/tutorials/index.html) & [Plotly](https://plotly.com/python/) - основные графически библиотеки. В большинстве случаев, вам хватит базового туториала + ответов с stackoverflow/google.\n",
        "* [Seaborn](https://seaborn.pydata.org/tutorial/introduction.html) - надстройка над Matplotlib, в целом позволяет делать очень приятные графики.\n",
        "* [Scikit-learn](https://scikit-learn.org/stable/user_guide.html) - маст-хэв библиотека любого начинающего датасаентиста и ученого. Отлично подходит для проведения исследований и обучения, но не годится к использованию в индустрии. Внутри есть юзергайд и большое количество туториалов по различным ML аспектам.\n",
        "* [Pytorch](https://pytorch.org/tutorials/beginner/basics/intro.html) - основная библиотека для работы с нейронными сетями.\n",
        "\n",
        "\n",
        "Форма для анонимных отзывов: [тут](https://forms.gle/sLB8NrZZoaWgYu6F7)"
      ]
    },
    {
      "cell_type": "markdown",
      "metadata": {
        "id": "t1iV-O1Sq4-H"
      },
      "source": [
        "# Домашнее задание 1\n",
        "\n",
        "Первое домашнее задание будет заключаться в сдаче данного ноутбука со всеми выполненными заданиями. В сданном ноутбуке должны быть сделаны как и семинарские задания, так и задания с пометкой (HW).\n",
        "\n",
        "**Дедлайн: 16е сентября (понедельник), 19.30**\n",
        "\n",
        "Для идентификации автора работы, пожалуйста:\n",
        "\n",
        "* (HW) Укажите в данной ячейке ваше ФИО: Рахимов Булат Раисович\n",
        "* (HW) Заполните данную анкету: TODO"
      ]
    },
    {
      "cell_type": "markdown",
      "metadata": {
        "id": "y-cbmE32q4-O"
      },
      "source": [
        "## 1. Python\n",
        "\n",
        "Содержание:\n",
        "* Списки\n",
        "* Словари\n",
        "* Условия\n",
        "* Циклы\n",
        "* Функции\n",
        "\n",
        "Вспомним несколько фактов:\n",
        "\n",
        "* В Python присваивание переменной значения не создает копию объекта. Вместо этого, переменная просто становится ссылкой на этот объект.\n",
        "\n",
        "* В Python есть изменяемые и неизменяемые типы. Изменяемые отличаются тем, что их содержимое можно сменить, не изменив ссылку на них. Неизменяемые объекты приходится пересоздавать, чтобы отразить изменения состояния. При этом все старые ссылки не видят это обновление, потому что указывают на старый объект."
      ]
    },
    {
      "cell_type": "markdown",
      "metadata": {
        "id": "D7M6fJ6Dq4-Q"
      },
      "source": [
        "## Списки\n",
        "\n",
        "Первый объект нашего интереса - списки, или, как их еще называют, листы.\n",
        "\n",
        "Список - это упорядоченная изменяемая (mutable) коллекция объектов произвольных типов."
      ]
    },
    {
      "cell_type": "code",
      "execution_count": null,
      "metadata": {
        "id": "jY0A_S5Tq4-R"
      },
      "outputs": [],
      "source": [
        "l1 = [1, 2, '3', 'word', ['word', 8, 14]]"
      ]
    },
    {
      "cell_type": "markdown",
      "metadata": {
        "id": "MVFhczddq4-W"
      },
      "source": [
        "Список - изменяемый объект. Убедимся, что это так."
      ]
    },
    {
      "cell_type": "code",
      "execution_count": null,
      "metadata": {
        "colab": {
          "base_uri": "https://localhost:8080/"
        },
        "id": "Klr5rTOEq4-Z",
        "outputId": "25b68dd8-b6b0-4e87-8db2-213de470c9cc"
      },
      "outputs": [
        {
          "output_type": "stream",
          "name": "stdout",
          "text": [
            "[1, 2, '3', 'word', ['word', 8, 14]]\n",
            "[1, 2, '3', 'word', ['word', 8, 14]]\n",
            "136055440024704\n",
            "136055440024704\n"
          ]
        }
      ],
      "source": [
        "l2 = l1\n",
        "print(l1, l2, id(l1), id(l2), sep='\\n')"
      ]
    },
    {
      "cell_type": "code",
      "execution_count": null,
      "metadata": {
        "colab": {
          "base_uri": "https://localhost:8080/"
        },
        "id": "npvJQRYYq4-d",
        "outputId": "00d293ff-b895-4478-8af1-a4504cd5bfea"
      },
      "outputs": [
        {
          "output_type": "execute_result",
          "data": {
            "text/plain": [
              "['word', 8, 14]"
            ]
          },
          "metadata": {},
          "execution_count": 3
        }
      ],
      "source": [
        "l1.pop()"
      ]
    },
    {
      "cell_type": "code",
      "execution_count": null,
      "metadata": {
        "colab": {
          "base_uri": "https://localhost:8080/"
        },
        "id": "wqP1Em2Oq4-g",
        "outputId": "0bee63ae-b1f0-4551-b763-b7c4fe2d36fc"
      },
      "outputs": [
        {
          "output_type": "stream",
          "name": "stdout",
          "text": [
            "[1, 2, '3', 'word']\n",
            "[1, 2, '3', 'word']\n",
            "131984865403904\n",
            "131984865403904\n"
          ]
        }
      ],
      "source": [
        "print(l1, l2, id(l1), id(l2), sep='\\n')"
      ]
    },
    {
      "cell_type": "markdown",
      "metadata": {
        "id": "m58cH3fPq4-h"
      },
      "source": [
        "Потренируемся работать со списками, предварительно задав выборку чисел в списке `items`."
      ]
    },
    {
      "cell_type": "code",
      "execution_count": null,
      "metadata": {
        "id": "Z7OgHiJbq4-i"
      },
      "outputs": [],
      "source": [
        "items = [5, -24, 76, 44, 4, -16, 57, 0, -11,\n",
        "         98, 13, 80, 16, 30, -27, -21, 78, 72]"
      ]
    },
    {
      "cell_type": "code",
      "source": [
        "items[0]"
      ],
      "metadata": {
        "colab": {
          "base_uri": "https://localhost:8080/"
        },
        "id": "VPe979T02qVt",
        "outputId": "0de4b6d2-492f-4d6b-a05b-0d977531ab5d"
      },
      "execution_count": null,
      "outputs": [
        {
          "output_type": "execute_result",
          "data": {
            "text/plain": [
              "5"
            ]
          },
          "metadata": {},
          "execution_count": 20
        }
      ]
    },
    {
      "cell_type": "markdown",
      "metadata": {
        "id": "zDwPoJNmq4-j"
      },
      "source": [
        "**Задача 0**\n",
        "\n",
        "Найдите произведение первого и последнего элементов списка `items`."
      ]
    },
    {
      "cell_type": "code",
      "source": [
        "items[0] * items[-1]"
      ],
      "metadata": {
        "colab": {
          "base_uri": "https://localhost:8080/"
        },
        "id": "-PQYG9V93Ran",
        "outputId": "06cffff5-8565-43df-fa5d-766d931ce9b8"
      },
      "execution_count": null,
      "outputs": [
        {
          "output_type": "execute_result",
          "data": {
            "text/plain": [
              "360"
            ]
          },
          "metadata": {},
          "execution_count": 27
        }
      ]
    },
    {
      "cell_type": "code",
      "execution_count": null,
      "metadata": {
        "colab": {
          "base_uri": "https://localhost:8080/",
          "height": 145
        },
        "id": "QymtSEY4q4-k",
        "outputId": "39470919-dec9-4e5e-c73f-63dfb644fb37"
      },
      "outputs": [
        {
          "output_type": "error",
          "ename": "IndexError",
          "evalue": "list index out of range",
          "traceback": [
            "\u001b[0;31m---------------------------------------------------------------------------\u001b[0m",
            "\u001b[0;31mIndexError\u001b[0m                                Traceback (most recent call last)",
            "\u001b[0;32m<ipython-input-26-8a5a8079385e>\u001b[0m in \u001b[0;36m<cell line: 1>\u001b[0;34m()\u001b[0m\n\u001b[0;32m----> 1\u001b[0;31m \u001b[0mitems\u001b[0m\u001b[0;34m[\u001b[0m\u001b[0;34m-\u001b[0m\u001b[0;36m55\u001b[0m\u001b[0;34m]\u001b[0m\u001b[0;34m\u001b[0m\u001b[0;34m\u001b[0m\u001b[0m\n\u001b[0m",
            "\u001b[0;31mIndexError\u001b[0m: list index out of range"
          ]
        }
      ],
      "source": [
        "items[-55]"
      ]
    },
    {
      "cell_type": "markdown",
      "metadata": {
        "id": "9GcH53zwq4-l"
      },
      "source": [
        "**Задача 1**\n",
        "\n",
        "Найди частное суммы первых трех элементов, начиная со второго и суммы последних двух элементов."
      ]
    },
    {
      "cell_type": "code",
      "source": [
        "sum(items[1:4])"
      ],
      "metadata": {
        "colab": {
          "base_uri": "https://localhost:8080/"
        },
        "id": "kD9eW6rF3jH9",
        "outputId": "b911fa25-fddd-454f-ddf4-c66014844ebf"
      },
      "execution_count": null,
      "outputs": [
        {
          "output_type": "execute_result",
          "data": {
            "text/plain": [
              "96"
            ]
          },
          "metadata": {},
          "execution_count": 29
        }
      ]
    },
    {
      "cell_type": "code",
      "execution_count": null,
      "metadata": {
        "colab": {
          "base_uri": "https://localhost:8080/"
        },
        "id": "qCYlJJ8mq4-l",
        "outputId": "ea36249f-3b2f-4afe-9029-b42ccb07fc7c"
      },
      "outputs": [
        {
          "output_type": "execute_result",
          "data": {
            "text/plain": [
              "0.64"
            ]
          },
          "metadata": {},
          "execution_count": 30
        }
      ],
      "source": [
        "s1 = items[1:4]\n",
        "s2 = items[-2:]\n",
        "sum(s1) / sum(s2)"
      ]
    },
    {
      "cell_type": "markdown",
      "metadata": {
        "id": "7Oh3GEc6q4-m"
      },
      "source": [
        "**Задача 2**\n",
        "\n",
        "Найди размах выборки (разницу между максимальным и минимальным элементами)."
      ]
    },
    {
      "cell_type": "code",
      "source": [
        "items"
      ],
      "metadata": {
        "colab": {
          "base_uri": "https://localhost:8080/"
        },
        "id": "2hl6wJ9J4GFi",
        "outputId": "eedb083d-0199-4dfd-fbad-dac97f3ec771"
      },
      "execution_count": null,
      "outputs": [
        {
          "output_type": "execute_result",
          "data": {
            "text/plain": [
              "[-27, -24, -21, -16, -11, 0, 4, 5, 13, 16, 30, 44, 57, 72, 76, 78, 80, 98]"
            ]
          },
          "metadata": {},
          "execution_count": 17
        }
      ]
    },
    {
      "cell_type": "code",
      "source": [
        "min(items)"
      ],
      "metadata": {
        "colab": {
          "base_uri": "https://localhost:8080/"
        },
        "id": "ErRAKwu94Gqx",
        "outputId": "159c2e88-710d-4114-e450-86b222ade021"
      },
      "execution_count": null,
      "outputs": [
        {
          "output_type": "execute_result",
          "data": {
            "text/plain": [
              "-27"
            ]
          },
          "metadata": {},
          "execution_count": 33
        }
      ]
    },
    {
      "cell_type": "code",
      "execution_count": null,
      "metadata": {
        "colab": {
          "base_uri": "https://localhost:8080/"
        },
        "id": "hYZwXRX0q4-n",
        "outputId": "668ecc3e-9f17-4edd-e8a0-95900ae6caa7"
      },
      "outputs": [
        {
          "output_type": "execute_result",
          "data": {
            "text/plain": [
              "125"
            ]
          },
          "metadata": {},
          "execution_count": 35
        }
      ],
      "source": [
        "abs(min(items) - max(items))"
      ]
    },
    {
      "cell_type": "markdown",
      "metadata": {
        "id": "ef9Bzu08q4-o"
      },
      "source": [
        "**Задача 3**\n",
        "\n",
        "Найди среднее значение выборки."
      ]
    },
    {
      "cell_type": "code",
      "execution_count": null,
      "metadata": {
        "colab": {
          "base_uri": "https://localhost:8080/"
        },
        "id": "FpeLwrFvq4-o",
        "outputId": "e5f84e37-0edf-4983-a28e-93a28a5c2738"
      },
      "outputs": [
        {
          "output_type": "execute_result",
          "data": {
            "text/plain": [
              "26.333333333333332"
            ]
          },
          "metadata": {},
          "execution_count": 36
        }
      ],
      "source": [
        "sum(items) / len(items)"
      ]
    },
    {
      "cell_type": "markdown",
      "metadata": {
        "id": "_T573uDKq4-p"
      },
      "source": [
        "**Задача 4 (HW)**\n",
        "\n",
        "Найдите медиану.\n",
        "\n",
        "**Задача 5 (HW)**\n",
        "\n",
        "Удалите третье значение и найдите медиану.\n",
        "\n",
        "**Задача 6 (HW)**\n",
        "\n",
        "Возведите каждый элемент списка в квадрат."
      ]
    },
    {
      "cell_type": "code",
      "source": [
        "# Задача4\n",
        "import statistics\n",
        "items = [5, -24, 76, 44, 4, -16, 57, 0, -11,\n",
        "         98, 13, 80, 16, 30, -27, -21, 78, 72]\n",
        "median_value = statistics.median(items)\n",
        "median_value"
      ],
      "metadata": {
        "colab": {
          "base_uri": "https://localhost:8080/"
        },
        "id": "iJybLP1axeQB",
        "outputId": "c281a3a3-4575-40ef-ea5d-f8c08b394e66"
      },
      "execution_count": null,
      "outputs": [
        {
          "output_type": "execute_result",
          "data": {
            "text/plain": [
              "14.5"
            ]
          },
          "metadata": {},
          "execution_count": 36
        }
      ]
    },
    {
      "cell_type": "code",
      "source": [
        "# Задача 5\n",
        "items = [5, -24, 76, 44, 4, -16, 57, 0, -11,\n",
        "         98, 13, 80, 16, 30, -27, -21, 78, 72]\n",
        "from statistics import median\n",
        "items.remove(76)\n",
        "print(median(items))\n"
      ],
      "metadata": {
        "id": "GBvhPYYL4c6_",
        "colab": {
          "base_uri": "https://localhost:8080/"
        },
        "outputId": "11f375e1-365f-40a9-8c29-52fde31a9b32"
      },
      "execution_count": null,
      "outputs": [
        {
          "output_type": "stream",
          "name": "stdout",
          "text": [
            "13\n"
          ]
        }
      ]
    },
    {
      "cell_type": "code",
      "source": [
        "# Задача 6\n",
        "items = [5, -24, 76, 44, 4, -16, 57, 0, -11,\n",
        "         98, 13, 80, 16, 30, -27, -21, 78, 72]\n",
        "square_items = []\n",
        "for item in items:\n",
        "  square_items.append(item**2)\n",
        "print(square_items)"
      ],
      "metadata": {
        "colab": {
          "base_uri": "https://localhost:8080/"
        },
        "id": "U2XVKIMR3kRl",
        "outputId": "7cceda82-a9d4-44bd-b881-9b9134a67d51"
      },
      "execution_count": null,
      "outputs": [
        {
          "output_type": "stream",
          "name": "stdout",
          "text": [
            "[25, 576, 5776, 1936, 16, 256, 3249, 0, 121, 9604, 169, 6400, 256, 900, 729, 441, 6084, 5184]\n"
          ]
        }
      ]
    },
    {
      "cell_type": "markdown",
      "metadata": {
        "id": "e_k6YdROq4-p"
      },
      "source": [
        "## Словари"
      ]
    },
    {
      "cell_type": "code",
      "source": [
        "type([1,2,3])"
      ],
      "metadata": {
        "colab": {
          "base_uri": "https://localhost:8080/"
        },
        "id": "FO3o7d2u4ifl",
        "outputId": "da431b9b-8370-4056-ec89-15ef79f15952"
      },
      "execution_count": null,
      "outputs": [
        {
          "output_type": "execute_result",
          "data": {
            "text/plain": [
              "list"
            ]
          },
          "metadata": {},
          "execution_count": 37
        }
      ]
    },
    {
      "cell_type": "code",
      "source": [
        "{1: [1,2,3], 1: [1,2]}"
      ],
      "metadata": {
        "colab": {
          "base_uri": "https://localhost:8080/"
        },
        "id": "nfWzWXJz4p8w",
        "outputId": "b281af8e-b4b6-40f8-955e-078dfbd8b6e7"
      },
      "execution_count": null,
      "outputs": [
        {
          "output_type": "execute_result",
          "data": {
            "text/plain": [
              "{1: [1, 2]}"
            ]
          },
          "metadata": {},
          "execution_count": 39
        }
      ]
    },
    {
      "cell_type": "code",
      "execution_count": null,
      "metadata": {
        "id": "ERfOI44Zq4-q"
      },
      "outputs": [],
      "source": [
        "items = {3: -2,\n",
        "         4: 'value1',\n",
        "         22: 2,\n",
        "         10: 1.22}"
      ]
    },
    {
      "cell_type": "markdown",
      "metadata": {
        "id": "uOUH--pCq4-q"
      },
      "source": [
        "**Задача 1**\n",
        "\n",
        "Добавьте в словарик по ключу `1` значение `-20`"
      ]
    },
    {
      "cell_type": "code",
      "source": [
        "b = [1,2,3]\n",
        "b.append(4)\n",
        "b"
      ],
      "metadata": {
        "colab": {
          "base_uri": "https://localhost:8080/"
        },
        "id": "s5RsiK41441p",
        "outputId": "7241d023-b57d-4fbe-d57a-82cad1c34b84"
      },
      "execution_count": null,
      "outputs": [
        {
          "output_type": "execute_result",
          "data": {
            "text/plain": [
              "[1, 2, 3, 4]"
            ]
          },
          "metadata": {},
          "execution_count": 41
        }
      ]
    },
    {
      "cell_type": "code",
      "execution_count": null,
      "metadata": {
        "id": "RH0Kq0TVq4-r"
      },
      "outputs": [],
      "source": [
        "items[1] = -20"
      ]
    },
    {
      "cell_type": "code",
      "source": [
        "items"
      ],
      "metadata": {
        "colab": {
          "base_uri": "https://localhost:8080/"
        },
        "id": "sUdibNhd5EQB",
        "outputId": "757bf29e-6d5e-478f-f26c-b8176a27f73d"
      },
      "execution_count": null,
      "outputs": [
        {
          "output_type": "execute_result",
          "data": {
            "text/plain": [
              "{3: -2, 4: 'value1', 22: 2, 10: 1.22, 1: -20}"
            ]
          },
          "metadata": {},
          "execution_count": 45
        }
      ]
    },
    {
      "cell_type": "markdown",
      "metadata": {
        "id": "HIHIW4PAq4-r"
      },
      "source": [
        "**Задача 2**\n",
        "\n",
        "Какое значение лежит в словаре по самому маленькому ключу?"
      ]
    },
    {
      "cell_type": "code",
      "source": [
        "items.items()"
      ],
      "metadata": {
        "colab": {
          "base_uri": "https://localhost:8080/"
        },
        "id": "EuEA5DxB5Uhk",
        "outputId": "1fff68d7-67de-492e-a6a9-bd8fcbe27ccf"
      },
      "execution_count": null,
      "outputs": [
        {
          "output_type": "execute_result",
          "data": {
            "text/plain": [
              "dict_items([(3, -2), (4, 'value1'), (22, 2), (10, 1.22), (1, -20)])"
            ]
          },
          "metadata": {},
          "execution_count": 48
        }
      ]
    },
    {
      "cell_type": "code",
      "source": [
        "items.values()"
      ],
      "metadata": {
        "colab": {
          "base_uri": "https://localhost:8080/"
        },
        "id": "Gj6qXqOH5Sxo",
        "outputId": "038fad3a-5600-499a-88a2-c3b693e28f85"
      },
      "execution_count": null,
      "outputs": [
        {
          "output_type": "execute_result",
          "data": {
            "text/plain": [
              "dict_values([-2, 'value1', 2, 1.22, -20])"
            ]
          },
          "metadata": {},
          "execution_count": 47
        }
      ]
    },
    {
      "cell_type": "code",
      "execution_count": null,
      "metadata": {
        "colab": {
          "base_uri": "https://localhost:8080/"
        },
        "id": "FHvrn_foq4-s",
        "outputId": "599c83bc-01d1-448d-b078-de7d01eb1492"
      },
      "outputs": [
        {
          "output_type": "execute_result",
          "data": {
            "text/plain": [
              "dict_keys([3, 4, 22, 10, 1])"
            ]
          },
          "metadata": {},
          "execution_count": 46
        }
      ],
      "source": [
        "items.keys()"
      ]
    },
    {
      "cell_type": "code",
      "source": [
        "min(items.keys())"
      ],
      "metadata": {
        "colab": {
          "base_uri": "https://localhost:8080/"
        },
        "id": "yHOJmGJG5Z05",
        "outputId": "a3cf2d9d-6d2c-48a5-ed4f-b907b1080ac7"
      },
      "execution_count": null,
      "outputs": [
        {
          "output_type": "execute_result",
          "data": {
            "text/plain": [
              "1"
            ]
          },
          "metadata": {},
          "execution_count": 49
        }
      ]
    },
    {
      "cell_type": "code",
      "source": [
        "items[min(items.keys())]"
      ],
      "metadata": {
        "colab": {
          "base_uri": "https://localhost:8080/"
        },
        "id": "2KZLBUQw5fPK",
        "outputId": "013fb8dd-620d-40a6-b7dd-865fe8e88538"
      },
      "execution_count": null,
      "outputs": [
        {
          "output_type": "execute_result",
          "data": {
            "text/plain": [
              "-20"
            ]
          },
          "metadata": {},
          "execution_count": 50
        }
      ]
    },
    {
      "cell_type": "markdown",
      "metadata": {
        "id": "LvyDB-sCq4-t"
      },
      "source": [
        "**Задача 3**\n",
        "\n",
        "Удалите ключ из задачи 2 и заново решите её."
      ]
    },
    {
      "cell_type": "code",
      "execution_count": null,
      "metadata": {
        "colab": {
          "base_uri": "https://localhost:8080/"
        },
        "id": "DxQHaz7Yq4-t",
        "outputId": "953714b0-4300-4328-9006-66580c3a3f4d"
      },
      "outputs": [
        {
          "output_type": "execute_result",
          "data": {
            "text/plain": [
              "-20"
            ]
          },
          "metadata": {},
          "execution_count": 51
        }
      ],
      "source": [
        "items.pop(1)"
      ]
    },
    {
      "cell_type": "code",
      "source": [
        "min(items.keys())"
      ],
      "metadata": {
        "colab": {
          "base_uri": "https://localhost:8080/"
        },
        "id": "cha_gYze5sJc",
        "outputId": "52343230-b7e0-4590-8994-7fd22972e1e7"
      },
      "execution_count": null,
      "outputs": [
        {
          "output_type": "execute_result",
          "data": {
            "text/plain": [
              "3"
            ]
          },
          "metadata": {},
          "execution_count": 53
        }
      ]
    },
    {
      "cell_type": "code",
      "source": [
        "items[min(items.keys())]"
      ],
      "metadata": {
        "colab": {
          "base_uri": "https://localhost:8080/"
        },
        "id": "IOxtigV55nIE",
        "outputId": "a9b3c4e8-07cd-416c-b647-c4d7c036e941"
      },
      "execution_count": null,
      "outputs": [
        {
          "output_type": "execute_result",
          "data": {
            "text/plain": [
              "-2"
            ]
          },
          "metadata": {},
          "execution_count": 52
        }
      ]
    },
    {
      "cell_type": "code",
      "execution_count": null,
      "metadata": {
        "id": "MaoeaeLHq4-t"
      },
      "outputs": [],
      "source": [
        "dict_1 = {1: 10, 2: 20}\n",
        "dict_2 = {3: 30, 4: 40}\n",
        "dict_3 = {3: 50, 6: 60}"
      ]
    },
    {
      "cell_type": "markdown",
      "metadata": {
        "id": "GVJdeY1jq4-u"
      },
      "source": [
        "**Задача 4**\n",
        "\n",
        "Объедините три словаря в один."
      ]
    },
    {
      "cell_type": "code",
      "execution_count": null,
      "metadata": {
        "id": "9Fu7Fyucq4-v"
      },
      "outputs": [],
      "source": [
        "dict_1.update(dict_2)"
      ]
    },
    {
      "cell_type": "code",
      "source": [
        "dict_1.update(dict_3)\n",
        "dict_1"
      ],
      "metadata": {
        "colab": {
          "base_uri": "https://localhost:8080/"
        },
        "id": "R56MERmb517Q",
        "outputId": "397ad778-0741-4490-8ecf-35b17b22c045"
      },
      "execution_count": null,
      "outputs": [
        {
          "output_type": "execute_result",
          "data": {
            "text/plain": [
              "{1: 10, 2: 20, 3: 50, 4: 40, 6: 60}"
            ]
          },
          "metadata": {},
          "execution_count": 58
        }
      ]
    },
    {
      "cell_type": "markdown",
      "metadata": {
        "id": "yryOIbv2q4-v"
      },
      "source": [
        "**Задача 5**\n",
        "\n",
        "Замените все значения словаря на их квадраты."
      ]
    },
    {
      "cell_type": "code",
      "execution_count": null,
      "metadata": {
        "id": "8LbjRK0zq4-w",
        "colab": {
          "base_uri": "https://localhost:8080/"
        },
        "outputId": "d416ea69-5bf7-4271-9410-d2b80be9f814"
      },
      "outputs": [
        {
          "output_type": "stream",
          "name": "stdout",
          "text": [
            "{1: 100, 2: 400, 3: 2500, 4: 1600, 6: 3600}\n"
          ]
        }
      ],
      "source": [
        "dict_1 = {1: 10, 2: 20}\n",
        "dict_2 = {3: 30, 4: 40}\n",
        "dict_3 = {3: 50, 6: 60}\n",
        "dict_1.update(dict_2)\n",
        "dict_1.update(dict_3)\n",
        "new_dictionary = {}\n",
        "for key in dict_1:\n",
        "  new_dictionary[key] = dict_1[key]**2\n",
        "print(new_dictionary)\n",
        "\n",
        "\n"
      ]
    },
    {
      "cell_type": "markdown",
      "metadata": {
        "id": "TR2Mukp0q4-w"
      },
      "source": [
        "## Условия"
      ]
    },
    {
      "cell_type": "markdown",
      "metadata": {
        "id": "28EN09v7q4-x"
      },
      "source": [
        "Синтаксис:\n",
        "```\n",
        "if условие:\n",
        "    что делать, если оно выполнено\n",
        "elif условие:\n",
        "    что делать, если оно выполнено\n",
        "else:\n",
        "    что делать, если не выполнилось ни одно условие выше\n",
        "```\n",
        "Всё, что происходит внутри условия, отделяется отступом."
      ]
    },
    {
      "cell_type": "markdown",
      "metadata": {
        "id": "kgC2qMaEq4-x"
      },
      "source": [
        "**Задача 1**\n",
        "\n",
        "Заведите переменную year и проверьте, является ли введеный год високосным.\n",
        "\n",
        "Год является високосным, если его номер кратен 4, но не кратен 100, а также если он кратен 400."
      ]
    },
    {
      "cell_type": "code",
      "execution_count": null,
      "metadata": {
        "colab": {
          "base_uri": "https://localhost:8080/"
        },
        "id": "xmEoxq8xq4-x",
        "outputId": "ba3f663b-21db-4ec5-c1cc-c5ce89259560"
      },
      "outputs": [
        {
          "output_type": "stream",
          "name": "stdout",
          "text": [
            "Високосный\n"
          ]
        }
      ],
      "source": [
        "year = 2020\n",
        "\n",
        "if year % 4 == 0 and year % 100 != 0:\n",
        "  print('Високосный')\n",
        "elif year % 400 == 0:\n",
        "  print('Високосный')\n",
        "else:\n",
        "  print('Обычный')"
      ]
    },
    {
      "cell_type": "markdown",
      "metadata": {
        "id": "oLV7y0dOq4_C"
      },
      "source": [
        "## Циклы"
      ]
    },
    {
      "cell_type": "code",
      "source": [
        "while tmp != 0:\n",
        "  ...\n",
        "  tmp -= 1"
      ],
      "metadata": {
        "id": "6XmRKSUb7T1M"
      },
      "execution_count": null,
      "outputs": []
    },
    {
      "cell_type": "markdown",
      "metadata": {
        "id": "hPdZ9gbbq4_C"
      },
      "source": [
        "Синтаксис:\n",
        "```\n",
        "for i in диапазон_изменений_i:\n",
        "    команды\n",
        "```\n",
        "Все, что происходит внутри цикла, отделяется отступом."
      ]
    },
    {
      "cell_type": "markdown",
      "metadata": {
        "id": "5Z1xjnw0q4_D"
      },
      "source": [
        "**Задача 1**\n",
        "\n",
        "Напиши программу для вывода картинки заданной глубины (используйте вложенные циклы).\n",
        "```\n",
        "*\n",
        "**\n",
        "***\n",
        "****\n",
        "*****\n",
        "****\n",
        "***\n",
        "**\n",
        "*\n",
        "```"
      ]
    },
    {
      "cell_type": "code",
      "execution_count": null,
      "metadata": {
        "id": "sII-V4zbq4_D",
        "colab": {
          "base_uri": "https://localhost:8080/"
        },
        "outputId": "5a7852e6-bb3e-4ff7-e82d-e08a57496967"
      },
      "outputs": [
        {
          "output_type": "stream",
          "name": "stdout",
          "text": [
            "*\n",
            "**\n",
            "***\n",
            "****\n",
            "*****\n",
            "****\n",
            "***\n",
            "**\n",
            "*\n"
          ]
        }
      ],
      "source": [
        "for i in range (1, 6):\n",
        "  for j in range(i):\n",
        "    print('*', end = \"\")\n",
        "  print()\n",
        "\n",
        "for i in range (4, 0, -1):\n",
        "  for j in range(i):\n",
        "    print('*', end = '')\n",
        "  print()"
      ]
    },
    {
      "cell_type": "markdown",
      "metadata": {
        "id": "dMUnotq7q4_E"
      },
      "source": [
        "## Функции"
      ]
    },
    {
      "cell_type": "markdown",
      "metadata": {
        "id": "2lYa2eOsq4_E"
      },
      "source": [
        "Синтаксис:\n",
        "\n",
        "```\n",
        "def название функции(список аргументов):\n",
        "    команды\n",
        "    return результат выполнения функции\n",
        "```\n",
        "\n",
        "То, что происходит внутри функции отделяется отступом."
      ]
    },
    {
      "cell_type": "code",
      "source": [
        "def hello(name, surname='Иванов'):"
      ],
      "metadata": {
        "id": "MmP6PdUS7t7N"
      },
      "execution_count": null,
      "outputs": []
    },
    {
      "cell_type": "markdown",
      "metadata": {
        "id": "GAc0Wr1aq4_F"
      },
      "source": [
        "**Задача 1**\n",
        "\n",
        "Напишите функцию, принимающую на вход строку, и разворачивающую её вспять."
      ]
    },
    {
      "cell_type": "code",
      "execution_count": null,
      "metadata": {
        "id": "i9VmCgvRq4_G",
        "colab": {
          "base_uri": "https://localhost:8080/",
          "height": 36
        },
        "outputId": "c6f0adae-89bf-40ec-881b-545f28e0a7a1"
      },
      "outputs": [
        {
          "output_type": "execute_result",
          "data": {
            "text/plain": [
              "'olleh'"
            ],
            "application/vnd.google.colaboratory.intrinsic+json": {
              "type": "string"
            }
          },
          "metadata": {},
          "execution_count": 66
        }
      ],
      "source": [
        "def inverse(string):\n",
        "  return(string[::-1])\n",
        "inverse(\"hello\")"
      ]
    },
    {
      "cell_type": "markdown",
      "metadata": {
        "id": "c7F5T7mAq4_G"
      },
      "source": [
        "**Задача 2 (HW)**\n",
        "\n",
        "Напишите функцию, которая принимает на вход число n, числа a, b и генерирует случайных числе с отрезка от $a$ до $b$."
      ]
    },
    {
      "cell_type": "code",
      "execution_count": null,
      "metadata": {
        "id": "Hgy7EC9Eq4_H",
        "colab": {
          "base_uri": "https://localhost:8080/"
        },
        "outputId": "190e0d00-007c-4eb1-9fe6-16611ab5c9fc"
      },
      "outputs": [
        {
          "output_type": "execute_result",
          "data": {
            "text/plain": [
              "[1, 7, 10, 8, 10]"
            ]
          },
          "metadata": {},
          "execution_count": 70
        }
      ],
      "source": [
        "import random\n",
        "def generate(n, a, b):\n",
        "  return([random.randint(a,b) for i in range(n)])\n",
        "generate(5, 1, 10)"
      ]
    },
    {
      "cell_type": "markdown",
      "metadata": {
        "id": "pSkYbmO2q4_H"
      },
      "source": [
        "## 2. Numpy"
      ]
    },
    {
      "cell_type": "markdown",
      "metadata": {
        "id": "CJwKWuyZq4_I"
      },
      "source": [
        "В задачах анализа данных часто используются многомерные массивы. В частности, выборка обычно имеет вид матрицы размера\n",
        "$N \\times d$, где\n",
        "$N$ — количество объектов, а\n",
        "$d$ — признаков.\n",
        "\n",
        "Но чистый Python довольно неудобный и слишком медленный для подобных задач. Конечно, можно представить матрицу в виде «списка списков», но с первого раза без ошибок такой объект сложно даже создать. Например, так делать не надо:"
      ]
    },
    {
      "cell_type": "code",
      "execution_count": null,
      "metadata": {
        "colab": {
          "base_uri": "https://localhost:8080/"
        },
        "id": "t3vflmfVq4_J",
        "outputId": "198f41a7-f046-4ad3-a6a2-b8dd103c72a6"
      },
      "outputs": [
        {
          "output_type": "execute_result",
          "data": {
            "text/plain": [
              "[[0, 0, 0, 0, 0],\n",
              " [0, 0, 0, 0, 0],\n",
              " [0, 0, 0, 0, 0],\n",
              " [0, 0, 0, 0, 0],\n",
              " [0, 0, 0, 0, 0]]"
            ]
          },
          "metadata": {},
          "execution_count": 65
        }
      ],
      "source": [
        "vector = [0, 0, 0, 0, 0]  # Создаём строчку\n",
        "matrix = 5 * [vector]     # Создаём список из строчек\n",
        "matrix"
      ]
    },
    {
      "cell_type": "code",
      "execution_count": null,
      "metadata": {
        "colab": {
          "base_uri": "https://localhost:8080/"
        },
        "id": "mEEae2VXq4_J",
        "outputId": "f40166c0-749d-4dc0-e543-7d41f9b95c9d"
      },
      "outputs": [
        {
          "output_type": "execute_result",
          "data": {
            "text/plain": [
              "[[1, 0, 0, 0, 0],\n",
              " [1, 0, 0, 0, 0],\n",
              " [1, 0, 0, 0, 0],\n",
              " [1, 0, 0, 0, 0],\n",
              " [1, 0, 0, 0, 0]]"
            ]
          },
          "metadata": {},
          "execution_count": 66
        }
      ],
      "source": [
        "matrix[0][0] = 1  # Хотим изменить один элемент\n",
        "matrix            # А получилось что-то не то..."
      ]
    },
    {
      "cell_type": "markdown",
      "metadata": {
        "id": "vgXMI4ACq4_L"
      },
      "source": [
        "Но даже если мы сможем корректно создать матрицу в виде списка списков, функции для работы с ней придётся писать самостоятельно. Они будут содержать циклы языка Python и, как следствие, медленно работать.\n",
        "\n",
        "Поэтому естественно было придумать библиотеку для работы с многомерными массивами. Такой библиотекой стала библиотека NumPy."
      ]
    },
    {
      "cell_type": "markdown",
      "metadata": {
        "id": "3GdjERaaq4_M"
      },
      "source": [
        "NumPy — библиотека языка Python, позволяющая удобно работать с многомерными массивами и матрицами, содержащая математические функции. Кроме того, NumPy позволяет векторизовать многие вычисления, имеющие место в машинном обучении."
      ]
    },
    {
      "cell_type": "markdown",
      "metadata": {
        "id": "kO9xTG6kq4_N"
      },
      "source": [
        "## Основной класс - `ndarray`\n",
        "\n",
        "Основной класс в `numpy` - `ndarray`, многомерный массив.\n",
        "\n",
        "`ndarray` имеет все преимущества массива, а также обеспечивает быструю обработку без использования относительно медленных циклов Python.\n",
        "\n",
        "Каждый подобный массив имеет несколько измерений или осей — в частности, вектор (в классическом понимании) является одномерным массивом и имеет 1 ось, матрица является двумерным массивом и имеет 2 оси и т.д."
      ]
    },
    {
      "cell_type": "markdown",
      "metadata": {
        "id": "sukBk1tZq4_N"
      },
      "source": [
        "## Импорт `numpy`\n",
        "\n",
        "`import numpy as np`\n",
        "\n",
        "`np` - синоним имени модуля, пространство имен, ссылка для доступа к компонентам модуля\n"
      ]
    },
    {
      "cell_type": "code",
      "execution_count": null,
      "metadata": {
        "id": "P8csi6ypq4_O"
      },
      "outputs": [],
      "source": [
        "import numpy as np"
      ]
    },
    {
      "cell_type": "markdown",
      "metadata": {
        "id": "c6FMMFluq4_P"
      },
      "source": [
        "## Способы создания массива\n",
        "\n",
        "- `np.array(obj, dtype, ...)` - преобразование из списка, кортежа, генератора, другого массива, ...\n",
        "    - `obj` - объект, который нужно преобразовать\n",
        "    - `dtype` - тип элемента массива\n",
        "- функции `numpy`\n",
        "- операции с массивами"
      ]
    },
    {
      "cell_type": "code",
      "execution_count": null,
      "metadata": {
        "colab": {
          "base_uri": "https://localhost:8080/"
        },
        "id": "rgPYHlC2q4_Q",
        "outputId": "4e6359f4-d90b-4f20-c699-87bd260ee223"
      },
      "outputs": [
        {
          "output_type": "execute_result",
          "data": {
            "text/plain": [
              "array([1, 2, 3])"
            ]
          },
          "metadata": {},
          "execution_count": 68
        }
      ],
      "source": [
        "# одномерный массив из списка и кортежа\n",
        "x = np.array([1, 2, 3])\n",
        "x"
      ]
    },
    {
      "cell_type": "code",
      "execution_count": null,
      "metadata": {
        "colab": {
          "base_uri": "https://localhost:8080/"
        },
        "id": "aAJ-UFJYq4_R",
        "outputId": "c06e367e-d4de-47f1-a8b6-77cdff5e6278"
      },
      "outputs": [
        {
          "output_type": "execute_result",
          "data": {
            "text/plain": [
              "numpy.ndarray"
            ]
          },
          "metadata": {},
          "execution_count": 69
        }
      ],
      "source": [
        "# получили объект типа numpy.ndarray\n",
        "type(x)"
      ]
    },
    {
      "cell_type": "code",
      "source": [
        "for i in range(13):\n",
        "  print(i)"
      ],
      "metadata": {
        "colab": {
          "base_uri": "https://localhost:8080/"
        },
        "id": "naZm05MD8_w5",
        "outputId": "19c600ad-d1fb-4775-d384-bb01b0976af0"
      },
      "execution_count": null,
      "outputs": [
        {
          "output_type": "stream",
          "name": "stdout",
          "text": [
            "0\n",
            "1\n",
            "2\n",
            "3\n",
            "4\n",
            "5\n",
            "6\n",
            "7\n",
            "8\n",
            "9\n",
            "10\n",
            "11\n",
            "12\n"
          ]
        }
      ]
    },
    {
      "cell_type": "code",
      "execution_count": null,
      "metadata": {
        "colab": {
          "base_uri": "https://localhost:8080/"
        },
        "id": "v30_rnEQq4_R",
        "outputId": "ffd054f6-9ca1-4845-f74b-52fbc27ef6a6"
      },
      "outputs": [
        {
          "output_type": "execute_result",
          "data": {
            "text/plain": [
              "array([ 0,  1,  2,  3,  4,  5,  6,  7,  8,  9, 10, 11, 12])"
            ]
          },
          "metadata": {},
          "execution_count": 70
        }
      ],
      "source": [
        "# преобразование из генератора\n",
        "np.array(range(13))"
      ]
    },
    {
      "cell_type": "code",
      "execution_count": null,
      "metadata": {
        "colab": {
          "base_uri": "https://localhost:8080/"
        },
        "id": "wHX3QN0Yq4_S",
        "outputId": "df190a04-cf0c-4066-a7ec-2a7fb2b8a757"
      },
      "outputs": [
        {
          "output_type": "execute_result",
          "data": {
            "text/plain": [
              "array([  0,   1,   4,   9,  16,  25,  36,  49,  64,  81, 100, 121, 144])"
            ]
          },
          "metadata": {},
          "execution_count": 73
        }
      ],
      "source": [
        "# преобразование из генератора списка\n",
        "np.array([x**2 for x in range(13)])"
      ]
    },
    {
      "cell_type": "markdown",
      "metadata": {
        "id": "pBcvN_MKq4_S"
      },
      "source": [
        "## Типы элементов массива\n",
        "\n",
        "В отличие от чистого Python`а с динамической типизацией в NumPy типизация статическая, как в C/C++. Поэтому у каждого многомерного массива должен быть тип элементов, который обычно можно указать явно с помощью параметра dtype. К тому же, все элементы в массиве должны быть одного типа.\n",
        "\n",
        "Встроенные типы `Python`:\n",
        "\n",
        "- `int`, `bool`, `float`, `complex`, `str`, ...\n",
        "\n",
        "Типы `numpy`:\n",
        "\n",
        "- `np.int0`, `np.int8`, `np.int16`, `np.int32`, `np.int64`\n",
        "- `np.float`, `np.float16`, `np.float32`, `np.float64`\n",
        "- `np.complex`, `np.complex64`, `np.complex128`\n",
        "\n",
        "Также можно задать тип, эквивалентный `struct` в языке Си, т.е. упорядоченный набор из разнотипных элементов, занимающих жестко фиксированное количество байт."
      ]
    },
    {
      "cell_type": "markdown",
      "metadata": {
        "id": "p1emQjhHq4_T"
      },
      "source": [
        "\n",
        "Здесь без явного указания массив будет состоять из целых чисел:"
      ]
    },
    {
      "cell_type": "code",
      "execution_count": null,
      "metadata": {
        "colab": {
          "base_uri": "https://localhost:8080/"
        },
        "id": "HLgYo3mkq4_U",
        "outputId": "d3e6cb79-790c-4a6d-dbdf-9e7e454cba49"
      },
      "outputs": [
        {
          "output_type": "execute_result",
          "data": {
            "text/plain": [
              "array([[1., 2., 3.],\n",
              "       [1., 2., 3.]])"
            ]
          },
          "metadata": {},
          "execution_count": 73
        }
      ],
      "source": [
        "np.array([[1, 2, 3], [1, 2, 3]], dtype=float)"
      ]
    },
    {
      "cell_type": "markdown",
      "metadata": {
        "id": "B09Uz4Olq4_U"
      },
      "source": [
        "Доступна и бóльшая экзотика. Например, можно потребовать, чтобы массив состоял из 16-битных чисел с плавающей точкой. Но в курсе нам будет достаточно простых типов int, float, bool."
      ]
    },
    {
      "cell_type": "code",
      "execution_count": null,
      "metadata": {
        "colab": {
          "base_uri": "https://localhost:8080/"
        },
        "id": "LMdyW4_dq4_V",
        "outputId": "956826c9-809d-49cc-e020-8f032ad3d456"
      },
      "outputs": [
        {
          "output_type": "execute_result",
          "data": {
            "text/plain": [
              "array([[1., 2., 3.],\n",
              "       [1., 2., 3.]], dtype=float16)"
            ]
          },
          "metadata": {},
          "execution_count": 75
        }
      ],
      "source": [
        "np.array([[1, 2, 3], [1, 2, 3]], dtype=np.float16)"
      ]
    },
    {
      "cell_type": "markdown",
      "metadata": {
        "id": "YpOVCy-iq4_W"
      },
      "source": [
        "Ещё можно создавать массив определённого размера из нулей:"
      ]
    },
    {
      "cell_type": "code",
      "execution_count": null,
      "metadata": {
        "colab": {
          "base_uri": "https://localhost:8080/"
        },
        "id": "znPw9hilq4_W",
        "outputId": "98f41586-e117-4980-9df6-c881393e8fbe"
      },
      "outputs": [
        {
          "output_type": "execute_result",
          "data": {
            "text/plain": [
              "array([[0, 0, 0, 0],\n",
              "       [0, 0, 0, 0],\n",
              "       [0, 0, 0, 0]])"
            ]
          },
          "metadata": {},
          "execution_count": 76
        }
      ],
      "source": [
        "arr = np.zeros((3, 4), dtype=int)\n",
        "arr"
      ]
    },
    {
      "cell_type": "markdown",
      "metadata": {
        "id": "f7tJe4Jwq4_X"
      },
      "source": [
        "... единиц:"
      ]
    },
    {
      "cell_type": "code",
      "execution_count": null,
      "metadata": {
        "colab": {
          "base_uri": "https://localhost:8080/"
        },
        "id": "i-No4_hOq4_Y",
        "outputId": "232dab19-a2bf-4256-c287-cb4f88e09777"
      },
      "outputs": [
        {
          "output_type": "execute_result",
          "data": {
            "text/plain": [
              "array([[1., 1., 1., 1.],\n",
              "       [1., 1., 1., 1.],\n",
              "       [1., 1., 1., 1.]])"
            ]
          },
          "metadata": {},
          "execution_count": 77
        }
      ],
      "source": [
        "np.ones((3, 4))"
      ]
    },
    {
      "cell_type": "markdown",
      "metadata": {
        "id": "YhE2Unqtq4_Y"
      },
      "source": [
        "... вообще из чего угодно:\n",
        "\n"
      ]
    },
    {
      "cell_type": "code",
      "execution_count": null,
      "metadata": {
        "colab": {
          "base_uri": "https://localhost:8080/"
        },
        "id": "uvr__BTFq4_Z",
        "outputId": "f7344b97-1fae-44df-e58e-a5f85462e564"
      },
      "outputs": [
        {
          "output_type": "execute_result",
          "data": {
            "text/plain": [
              "array([[5, 5, 5, 5],\n",
              "       [5, 5, 5, 5],\n",
              "       [5, 5, 5, 5]])"
            ]
          },
          "metadata": {},
          "execution_count": 78
        }
      ],
      "source": [
        "np.full((3, 4), 5, dtype=int)"
      ]
    },
    {
      "cell_type": "markdown",
      "metadata": {
        "id": "z2x3Ixmaq4_Z"
      },
      "source": [
        "... а память просто выделять, не инициализируя:"
      ]
    },
    {
      "cell_type": "code",
      "execution_count": null,
      "metadata": {
        "colab": {
          "base_uri": "https://localhost:8080/"
        },
        "id": "uV-ucmq3q4_a",
        "outputId": "f6b7c735-4c47-4046-f3b0-52a5bacda056"
      },
      "outputs": [
        {
          "output_type": "execute_result",
          "data": {
            "text/plain": [
              "array([[0. , 0. , 0.3, 1. ],\n",
              "       [0. , 0. , 1. , 1. ],\n",
              "       [1. , 1. , 1. , 1. ],\n",
              "       [1. , 0. , 0. , 1. ],\n",
              "       [0.5, 0. , 0. , 1. ]])"
            ]
          },
          "metadata": {},
          "execution_count": 79
        }
      ],
      "source": [
        "np.empty((5, 4))"
      ]
    },
    {
      "cell_type": "code",
      "execution_count": null,
      "metadata": {
        "colab": {
          "base_uri": "https://localhost:8080/"
        },
        "id": "CiKhjN5kq4_b",
        "outputId": "eaa54e18-5f50-4808-d2e4-7c2dacc999e4"
      },
      "outputs": [
        {
          "output_type": "stream",
          "name": "stdout",
          "text": [
            "array([0, 1, 2, 3])\n",
            "array([0., 1., 2., 3.])\n",
            "array([False,  True,  True,  True])\n"
          ]
        }
      ],
      "source": [
        "# массив с элементами разных типов\n",
        "for dtype in (int, float, bool):\n",
        "    print('%r' % np.array([0, 1, 2, 3], dtype=dtype))"
      ]
    },
    {
      "cell_type": "code",
      "execution_count": null,
      "metadata": {
        "colab": {
          "base_uri": "https://localhost:8080/"
        },
        "id": "Isb0USX9q4_b",
        "outputId": "870bda8e-d7cc-445a-d038-b67b6282ef0d"
      },
      "outputs": [
        {
          "output_type": "stream",
          "name": "stdout",
          "text": [
            "<class 'numpy.int64'>\n",
            "array([0, 1, 2, 3])\n",
            "memory size: 32\n",
            "\n",
            "<class 'numpy.int8'>\n",
            "array([0, 1, 2, 3], dtype=int8)\n",
            "memory size: 4\n",
            "\n",
            "<class 'numpy.int16'>\n",
            "array([0, 1, 2, 3], dtype=int16)\n",
            "memory size: 8\n",
            "\n",
            "<class 'numpy.int32'>\n",
            "array([0, 1, 2, 3], dtype=int32)\n",
            "memory size: 16\n",
            "\n"
          ]
        },
        {
          "output_type": "stream",
          "name": "stderr",
          "text": [
            "<ipython-input-4-31ce702e982f>:2: DeprecationWarning: `np.int0` is a deprecated alias for `np.intp`.  (Deprecated NumPy 1.24)\n",
            "  for dtype in (np.int0, np.int8, np.int16, np.int32):\n"
          ]
        }
      ],
      "source": [
        "# массив с элементами разных типов\n",
        "for dtype in (np.int0, np.int8, np.int16, np.int32):\n",
        "    arr = np.array([0, 1, 2, 3], dtype=dtype)\n",
        "    print(dtype)\n",
        "    print('%r' % arr)\n",
        "    print('memory size:', arr.nbytes, end='\\n'*2)"
      ]
    },
    {
      "cell_type": "markdown",
      "metadata": {
        "id": "P96SCI0Uq4_c"
      },
      "source": [
        "## Атрибуты массива\n",
        "\n",
        "- `arr.shape` - размеры массива = его форма (кортеж)\n",
        "- `arr.size` - количество элементов массива\n",
        "- `arr.dtype` - тип элемента массива\n",
        "- `arr.ndim` - количество измерений массива (целое число > 0)\n",
        "- `arr.strides` - шаги в байтах для перехода к следующему элементу измерения (кортеж)\n",
        "- `arr.nbytes` - размер занимаемой памяти в байтах"
      ]
    },
    {
      "cell_type": "code",
      "execution_count": null,
      "metadata": {
        "colab": {
          "base_uri": "https://localhost:8080/"
        },
        "id": "BxUrF8-Qq4_d",
        "outputId": "a157fcbf-d9f5-4ed3-f117-a3b11131f646"
      },
      "outputs": [
        {
          "output_type": "execute_result",
          "data": {
            "text/plain": [
              "array([ 0,  1,  2,  3,  4,  5,  6,  7,  8,  9, 10, 11])"
            ]
          },
          "metadata": {},
          "execution_count": 82
        }
      ],
      "source": [
        "arr = np.array(range(12))\n",
        "arr"
      ]
    },
    {
      "cell_type": "code",
      "execution_count": null,
      "metadata": {
        "colab": {
          "base_uri": "https://localhost:8080/"
        },
        "id": "ySBV5mQPq4_e",
        "outputId": "22a2127d-051b-4057-95f7-70c30c4ede38"
      },
      "outputs": [
        {
          "output_type": "execute_result",
          "data": {
            "text/plain": [
              "(1, 12, dtype('int64'), (12,), (8,), 96)"
            ]
          },
          "metadata": {},
          "execution_count": 83
        }
      ],
      "source": [
        "arr.ndim, arr.size, arr.dtype, arr.shape, arr.strides, arr.nbytes"
      ]
    },
    {
      "cell_type": "markdown",
      "metadata": {
        "id": "r9v_RRfnq4_f"
      },
      "source": [
        "Изменять «размерность» массива можно с помощью метода reshape. Для этого, конечно, произведение размерностей должно равняться количеству элементов массива."
      ]
    },
    {
      "cell_type": "code",
      "execution_count": null,
      "metadata": {
        "colab": {
          "base_uri": "https://localhost:8080/"
        },
        "id": "MQxJs0coq4_g",
        "outputId": "e38dda54-c8b5-45ed-e3f7-c6c6d1db08e7"
      },
      "outputs": [
        {
          "output_type": "execute_result",
          "data": {
            "text/plain": [
              "array([[ 0,  1,  2],\n",
              "       [ 3,  4,  5],\n",
              "       [ 6,  7,  8],\n",
              "       [ 9, 10, 11]])"
            ]
          },
          "metadata": {},
          "execution_count": 88
        }
      ],
      "source": [
        "arr = arr.reshape(4, 3)\n",
        "arr"
      ]
    },
    {
      "cell_type": "markdown",
      "metadata": {
        "id": "bTGw_M1Kq4_h"
      },
      "source": [
        "Вместо количества элементов по одной «размерности» можно указать -1, и тогда NumPy сам посчитает это число:"
      ]
    },
    {
      "cell_type": "code",
      "execution_count": null,
      "metadata": {
        "colab": {
          "base_uri": "https://localhost:8080/"
        },
        "id": "ESjdSghwq4_h",
        "outputId": "140aef44-066f-4684-a667-4a07e3c48baa"
      },
      "outputs": [
        {
          "output_type": "execute_result",
          "data": {
            "text/plain": [
              "array([[ 0,  1,  2],\n",
              "       [ 3,  4,  5],\n",
              "       [ 6,  7,  8],\n",
              "       [ 9, 10, 11]])"
            ]
          },
          "metadata": {},
          "execution_count": 89
        }
      ],
      "source": [
        "arr = arr.reshape(4, -1)\n",
        "arr"
      ]
    },
    {
      "cell_type": "markdown",
      "metadata": {
        "id": "auzi_VKKq4_i"
      },
      "source": [
        "Ещё одна полезная функция — np.arange(...), которая по сути эквивалентна запуску np.array(range(...)).\n",
        "\n",
        "Полученный одномерный массив удобно превращать в матрицу с помощью reshape:"
      ]
    },
    {
      "cell_type": "code",
      "execution_count": null,
      "metadata": {
        "colab": {
          "base_uri": "https://localhost:8080/"
        },
        "id": "30dX4e71q4_j",
        "outputId": "86136a99-e57c-4f9f-abc9-6ab4e4ec49c7"
      },
      "outputs": [
        {
          "output_type": "execute_result",
          "data": {
            "text/plain": [
              "array([[ 0,  1,  2,  3,  4],\n",
              "       [ 5,  6,  7,  8,  9],\n",
              "       [10, 11, 12, 13, 14],\n",
              "       [15, 16, 17, 18, 19],\n",
              "       [20, 21, 22, 23, 24]])"
            ]
          },
          "metadata": {},
          "execution_count": 90
        }
      ],
      "source": [
        "np.arange(25).reshape(5, 5)"
      ]
    },
    {
      "cell_type": "markdown",
      "metadata": {
        "id": "uG_67UxTq4_j"
      },
      "source": [
        "К тому же, можно генерировать матрицы из вероятностных распределений."
      ]
    },
    {
      "cell_type": "markdown",
      "metadata": {
        "id": "PY57SGE1q4_k"
      },
      "source": [
        "Вот матрица размера $3 \\times 4$ из $\\mathcal{N}(0,10)$:"
      ]
    },
    {
      "cell_type": "code",
      "execution_count": null,
      "metadata": {
        "colab": {
          "base_uri": "https://localhost:8080/"
        },
        "id": "XvdByFNGq4_k",
        "outputId": "40dd2e09-4cf1-4448-8e35-e01018868afa"
      },
      "outputs": [
        {
          "output_type": "execute_result",
          "data": {
            "text/plain": [
              "array([[ 0.99227948,  0.02679473,  9.33148704, -3.59295203],\n",
              "       [-0.71283148, -2.45207896, -2.56377464,  3.51006714],\n",
              "       [-4.04890276, -1.52636615,  3.47772214, -5.30978698]])"
            ]
          },
          "metadata": {},
          "execution_count": 91
        }
      ],
      "source": [
        "np.random.normal(0, np.sqrt(10), (3, 4))"
      ]
    },
    {
      "cell_type": "markdown",
      "metadata": {
        "id": "HfD9FhQCq4_m"
      },
      "source": [
        "**Задание 1 (HW)**\n",
        "\n",
        "Создать массивы типа `ndarray` и вывести на экран:\n",
        "- содержимое\n",
        "- форму\n",
        "- размер занимаемой памяти\n",
        "\n",
        "1. одномерный массив, содержащий действительные числа $\\pi, \\frac{\\pi}{2}, \\frac{\\pi}{4}, \\frac{\\pi}{9}, \\frac{\\pi}{16}, ..., \\frac{\\pi}{1024}$\n",
        "\n",
        "2. одномерный массив, содержащий константу `True`, если число делится на 5, иначе - `False` для чисел 10, ..., 100.\n"
      ]
    },
    {
      "cell_type": "code",
      "execution_count": null,
      "metadata": {
        "id": "7lr2GTETq4_n",
        "colab": {
          "base_uri": "https://localhost:8080/"
        },
        "outputId": "f9137c35-6750-4719-fba1-e1e93f68be40"
      },
      "outputs": [
        {
          "output_type": "stream",
          "name": "stdout",
          "text": [
            "[3.14159265e+00 1.57079633e+00 7.85398163e-01 3.92699082e-01\n",
            " 1.96349541e-01 9.81747704e-02 4.90873852e-02 2.45436926e-02\n",
            " 1.22718463e-02 6.13592315e-03 3.06796158e-03]\n",
            "(11,)\n",
            "88\n"
          ]
        }
      ],
      "source": [
        "# 1 пункт\n",
        "from math import pi\n",
        "import numpy as np\n",
        "power = np.arange(0, 11, 1)\n",
        "pi_power = [pi /(2 ** n) for n in power]\n",
        "arr_pi_power = np.array(pi_power)\n",
        "print(arr_pi_power)\n",
        "print(arr_pi_power.shape)\n",
        "print(arr_pi_power.nbytes)"
      ]
    },
    {
      "cell_type": "code",
      "source": [
        "#2 пункт\n",
        "arr_const = np.array([i % 5 == 0 for i in range(10,101)])\n",
        "print(arr_const)\n",
        "print(arr_const.shape)\n",
        "print(arr_const.nbytes)"
      ],
      "metadata": {
        "colab": {
          "base_uri": "https://localhost:8080/"
        },
        "id": "GldkxSsIqmOg",
        "outputId": "78967a09-480f-48ef-da14-4dfa21128187"
      },
      "execution_count": null,
      "outputs": [
        {
          "output_type": "stream",
          "name": "stdout",
          "text": [
            "[ True False False False False  True False False False False  True False\n",
            " False False False  True False False False False  True False False False\n",
            " False  True False False False False  True False False False False  True\n",
            " False False False False  True False False False False  True False False\n",
            " False False  True False False False False  True False False False False\n",
            "  True False False False False  True False False False False  True False\n",
            " False False False  True False False False False  True False False False\n",
            " False  True False False False False  True]\n",
            "(91,)\n",
            "91\n"
          ]
        }
      ]
    },
    {
      "cell_type": "markdown",
      "metadata": {
        "id": "oCFe1ueZq4_n"
      },
      "source": [
        "**Задание 2 (HW)**\n",
        "1. Сгенерировать последовательность из 100 элементов: `[1.18, 3.27, ...]`\n",
        "\n",
        "2. Создать двумерный массив из 100 псевдослучайных чисел, равномерно распределенных на полуинтервале $[\\pi, 10\\pi)$\n",
        "\n",
        "3. Преобразовать полученный массив так, чтобы элементы стали целочисленными\n",
        "\n",
        "4. Из массива `[0, 1, ..., 99]` случайным образом выбрать 10 элементов\n"
      ]
    },
    {
      "cell_type": "code",
      "source": [
        "# Генерация последовательности из 100 элементов [1.18, 3.27, ...]\n",
        "generate_arr = np.arange(1.18, 101.18, 2.09)\n",
        "print(generate_arr)\n",
        "\n",
        "#Пункт 2\n",
        "random_arr = np.random.uniform(pi, 10 * pi, (10, 10))\n",
        "print(random_arr)\n",
        "\n",
        "#Пункт 3\n",
        "int_random_arr = np.array(random_arr, dtype = int)\n",
        "print(int_random_arr)\n",
        "\n",
        "#Пункт 4\n",
        "new_arr = np.arange(0, 100)\n",
        "new_random_arr = np.random.choice(new_arr, size=10, replace = False)\n",
        "print(new_random_arr)"
      ],
      "metadata": {
        "id": "nFRYY5MWZZt4",
        "colab": {
          "base_uri": "https://localhost:8080/"
        },
        "outputId": "9a981021-8e9e-45e6-945a-00d5bf7cb414"
      },
      "execution_count": null,
      "outputs": [
        {
          "output_type": "stream",
          "name": "stdout",
          "text": [
            "[ 1.18  3.27  5.36  7.45  9.54 11.63 13.72 15.81 17.9  19.99 22.08 24.17\n",
            " 26.26 28.35 30.44 32.53 34.62 36.71 38.8  40.89 42.98 45.07 47.16 49.25\n",
            " 51.34 53.43 55.52 57.61 59.7  61.79 63.88 65.97 68.06 70.15 72.24 74.33\n",
            " 76.42 78.51 80.6  82.69 84.78 86.87 88.96 91.05 93.14 95.23 97.32 99.41]\n",
            "[[29.99914797 26.93829034 14.12035486  8.62616604  3.89841023 10.02270103\n",
            "  17.8954391  14.09005467  7.51135343  6.51962118]\n",
            " [23.80264922 22.66873064 13.38481506  4.61760719 28.89925432  6.97866836\n",
            "  20.62960897 22.15191326  5.04209636 20.19978159]\n",
            " [14.41700162 15.74745131 14.68726505 31.02613439 14.21239197 16.36920429\n",
            "  13.61645824 28.06971547 10.84166265  9.05294152]\n",
            " [20.92262442 21.00583063 31.27326209 28.23263206 25.69655209 11.69763633\n",
            "  31.33882851 14.23138728 11.55221889  5.75045579]\n",
            " [26.24076911 28.61862321  6.59850051 26.20797473  4.34209618 24.06571298\n",
            "  23.79466096  5.96785813 23.42460785 15.88276982]\n",
            " [14.66391756  5.90076293 12.73897044 25.68224679  4.58596803 20.1725145\n",
            "  21.86406615 29.62622264 20.57488269 15.63524181]\n",
            " [14.68034546 29.71517399 27.34677616  9.88525058 15.9549145  20.91136474\n",
            "  17.19540006 24.87677939 30.18749151 28.44305362]\n",
            " [14.12305645 25.23530525  9.84581559 25.84634457 19.28274869 25.23814748\n",
            "  10.50853184  3.77841696 25.993028    4.09175927]\n",
            " [20.94214196 15.78254294 17.33300823 30.0095876   6.64940352  9.22560256\n",
            "  22.67952451  6.43078283 28.63858481 18.47382931]\n",
            " [12.34451915 10.87405813 11.81345676 10.2739281  13.31662708  7.6722813\n",
            "  24.1865639  13.16131147 12.15964253 18.86247437]]\n",
            "[[29 26 14  8  3 10 17 14  7  6]\n",
            " [23 22 13  4 28  6 20 22  5 20]\n",
            " [14 15 14 31 14 16 13 28 10  9]\n",
            " [20 21 31 28 25 11 31 14 11  5]\n",
            " [26 28  6 26  4 24 23  5 23 15]\n",
            " [14  5 12 25  4 20 21 29 20 15]\n",
            " [14 29 27  9 15 20 17 24 30 28]\n",
            " [14 25  9 25 19 25 10  3 25  4]\n",
            " [20 15 17 30  6  9 22  6 28 18]\n",
            " [12 10 11 10 13  7 24 13 12 18]]\n",
            "[83 19 87 52 35 59 64 81 43 86]\n"
          ]
        }
      ]
    },
    {
      "cell_type": "markdown",
      "metadata": {
        "id": "enD-LOEzq4_o"
      },
      "source": [
        "**Задание 3 (HW)**\n",
        "\n",
        "Реализуйте функцию, принимающую на вход массив целых неотрицательных чисел `nums` и возвращающую самый частый элемент массива."
      ]
    },
    {
      "cell_type": "code",
      "execution_count": null,
      "metadata": {
        "id": "7bwc4tvFq4_p",
        "colab": {
          "base_uri": "https://localhost:8080/"
        },
        "outputId": "9a67cc6e-0bf8-41d8-d12f-0d1cd20d70b2"
      },
      "outputs": [
        {
          "output_type": "execute_result",
          "data": {
            "text/plain": [
              "1"
            ]
          },
          "metadata": {},
          "execution_count": 62
        }
      ],
      "source": [
        "def most_frequent(nums):\n",
        "  most_frequent_nums = np.argmax(np.bincount(nums))\n",
        "  return(most_frequent_nums)\n",
        "\n",
        "some_arr = np.array([1, 1, 1, 3, 3, 7, 10, 100, 40])\n",
        "most_frequent(some_arr)"
      ]
    }
  ],
  "metadata": {
    "kernelspec": {
      "display_name": "Python 3",
      "language": "python",
      "name": "python3"
    },
    "language_info": {
      "codemirror_mode": {
        "name": "ipython",
        "version": 3
      },
      "file_extension": ".py",
      "mimetype": "text/x-python",
      "name": "python",
      "nbconvert_exporter": "python",
      "pygments_lexer": "ipython3",
      "version": "3.10.6"
    },
    "colab": {
      "provenance": []
    }
  },
  "nbformat": 4,
  "nbformat_minor": 0
}